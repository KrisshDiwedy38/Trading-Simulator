{
 "cells": [
  {
   "cell_type": "markdown",
   "id": "5ca5eb67-81d1-4093-a11c-512898530661",
   "metadata": {},
   "source": [
    "### Import required libraries"
   ]
  },
  {
   "cell_type": "code",
   "execution_count": 2,
   "id": "405da2f6-4716-4e16-9fbc-5be42899a7ad",
   "metadata": {},
   "outputs": [],
   "source": [
    "import requests\n",
    "import pandas as pd\n",
    "import numpy as np\n",
    "import math\n",
    "import plotly.express as px \n",
    "import matplotlib.pyplot as plt\n",
    "api_key = \"WFHZHJATQIO0HDH7\"\n",
    "import warnings\n",
    "\n",
    "# Ignore all warnings\n",
    "warnings.filterwarnings(\"ignore\")\n"
   ]
  },
  {
   "cell_type": "markdown",
   "id": "0d913d63-ed8a-47b3-82e2-041746a7987f",
   "metadata": {},
   "source": [
    "### Fetching Stocks from Alpha Vantage API"
   ]
  },
  {
   "cell_type": "code",
   "execution_count": 3,
   "id": "6d8c7e2b-f0a8-48e1-b200-86c79637adfe",
   "metadata": {},
   "outputs": [],
   "source": [
    "def get_stocks(equity):\n",
    "    base_url = \"https://www.alphavantage.co/query?\"\n",
    "    url = base_url + 'function=TIME_SERIES_INTRADAY' + '&symbol=' + equity + '&interval=5min&extended_hours=true&apikey=' + api_key\n",
    "    response = requests.get(url)\n",
    "    try:\n",
    "        if response.status_code == 200:\n",
    "            df = pd.DataFrame(response.json())\n",
    "            return df\n",
    "        else:\n",
    "            print(\"Could not fetch data\")\n",
    "            return\n",
    "    except Exception as e:\n",
    "        print(f\"Error in getting stock data  -  {e}\")\n",
    "        return "
   ]
  },
  {
   "cell_type": "markdown",
   "id": "4dd5bb2b-5285-4e05-987c-138fef2bba3d",
   "metadata": {},
   "source": [
    "### Removing the Stock info"
   ]
  },
  {
   "cell_type": "code",
   "execution_count": 4,
   "id": "8af05384-cb18-479e-94f4-2e9a0a63a180",
   "metadata": {},
   "outputs": [],
   "source": [
    "def get_time_series(stocks):\n",
    "    return stocks[6:]"
   ]
  },
  {
   "cell_type": "markdown",
   "id": "afb81aad-592f-471c-bd01-812440b8856d",
   "metadata": {},
   "source": [
    "### Using Plotly you display the stocks"
   ]
  },
  {
   "cell_type": "code",
   "execution_count": 5,
   "id": "372e9888-734d-4855-bbb9-870e82d501cb",
   "metadata": {},
   "outputs": [],
   "source": [
    "def plot_stocks(df):\n",
    "    \n",
    "    min_close = min(df[\"Close Price\"])\n",
    "    max_close = max(df[\"Close Price\"])\n",
    "    tick_vals = list(range(int(min_close // 2) * 2, int(max_close) + 2, 2))\n",
    "    tick_texts = [str(val) for val in tick_vals]\n",
    "\n",
    "    fig = px.line(df, x=\"Time Stamp\", y=\"Close Price\", width=1000, height=600)\n",
    "\n",
    "    fig.update_layout(\n",
    "        yaxis=dict(\n",
    "            tickmode='array',\n",
    "            tickvals=tick_vals,\n",
    "            ticktext=tick_texts,\n",
    "            range=[min_close, max_close]\n",
    "        ),\n",
    "        title=\"Stock Prices Over Time\"\n",
    "    )\n",
    "\n",
    "    fig.show()\n",
    "    return df\n"
   ]
  },
  {
   "cell_type": "markdown",
   "id": "695358bc-2bf5-4abf-accc-84cc1c04cef1",
   "metadata": {},
   "source": [
    "### ADFuller Test"
   ]
  },
  {
   "cell_type": "code",
   "execution_count": 6,
   "id": "324a2c78-36d3-4bb7-8b30-df3682cf6f2f",
   "metadata": {},
   "outputs": [],
   "source": [
    "from statsmodels.tsa.stattools import adfuller\n",
    "def check_for_stationary(df):\n",
    "    adf_test = adfuller(df)\n",
    "    return adf_test[1]\n",
    "    "
   ]
  },
  {
   "cell_type": "markdown",
   "id": "b53d52ef-4bd1-42ff-b061-1fb164609e37",
   "metadata": {},
   "source": [
    "### Differentiating if the data is not stationary"
   ]
  },
  {
   "cell_type": "code",
   "execution_count": 7,
   "id": "34f68b71-38e5-41b9-bbb6-1a289318bd1b",
   "metadata": {},
   "outputs": [],
   "source": [
    "def differentiate(df_diff):\n",
    "    df_diff['Close Price'] = df_diff['Close Price'].diff()\n",
    "    x = df_diff['Close Price'].median()\n",
    "    df_diff.fillna(x,inplace = True)\n",
    "    return df_diff\n",
    "    "
   ]
  },
  {
   "cell_type": "markdown",
   "id": "94e391b0-f0de-4b61-bc63-67bb9ad1b809",
   "metadata": {},
   "source": [
    "### Getting value of D for ARIMA model"
   ]
  },
  {
   "cell_type": "code",
   "execution_count": 8,
   "id": "0d5ba962-ee34-4207-88fa-3e0e309ffe86",
   "metadata": {},
   "outputs": [],
   "source": [
    "def get_d(p_value, df):\n",
    "    d = 0\n",
    "    while round(p_value,2) > 0.05:\n",
    "        d += 1\n",
    "        df = differentiate(df)\n",
    "        p_value = check_for_stationary(df[\"Close Price\"])\n",
    "    return d, df\n",
    "    "
   ]
  },
  {
   "cell_type": "markdown",
   "id": "a7f16b6f-87a9-41ab-b5bf-002cced089fe",
   "metadata": {},
   "source": [
    "### Selecting ARIMA model"
   ]
  },
  {
   "cell_type": "code",
   "execution_count": 9,
   "id": "5e046efb-8f82-40d4-9c62-0372975d4bdf",
   "metadata": {},
   "outputs": [],
   "source": [
    "import statsmodels.api as sm\n",
    "import itertools\n",
    "def get_model(d,df):\n",
    "    p_values = range(0, 5)\n",
    "    q_values = range(0, 5)\n",
    "    \n",
    "    pq_combinations = list(itertools.product(p_values, q_values))\n",
    "    \n",
    "    best_aic = float(\"inf\")\n",
    "    best_order = None\n",
    "    \n",
    "    for p, q in pq_combinations:\n",
    "        try:\n",
    "            model = sm.tsa.ARIMA(df, order=(p, d, q)).fit()\n",
    "            if model.aic < best_aic:\n",
    "                best_aic = model.aic\n",
    "                best_order = (p, d, q)\n",
    "        except Exception as e:\n",
    "            continue\n",
    "    print(f\"p = {p}, q = {q}\")\n",
    "    return model\n"
   ]
  },
  {
   "cell_type": "markdown",
   "id": "a00f89dc-9f8b-4ccb-843e-2ddf8f5a04d5",
   "metadata": {},
   "source": [
    "### Main "
   ]
  },
  {
   "cell_type": "code",
   "execution_count": 12,
   "id": "d3315fea-7a6c-4541-bf29-9cfa091e060c",
   "metadata": {},
   "outputs": [],
   "source": [
    "import math\n",
    "import json\n",
    "\n",
    "def main():\n",
    "    # Getting Stocks and normalizing it for plotting \n",
    "    equity = input(\"Enter equity id: \")\n",
    "    raw_stocks = get_stocks(equity.upper())\n",
    "    time_series = get_time_series(raw_stocks)\n",
    "    stock_data = time_series[\"Time Series (5min)\"][::-1]\n",
    "    time_stamp = stock_data.index\n",
    "    \n",
    "    # Getting Close prices\n",
    "    close = [float(i[\"4. close\"]) for i in stock_data]\n",
    "    df = pd.DataFrame({\"Time Stamp\": time_stamp, \"Close Price\": close})\n",
    "\n",
    "    # Plot the original DataFrame\n",
    "    plot_stocks(df) \n",
    "\n",
    "    # Splitting data into Train and Test\n",
    "    train_size = (df.index < len(df)-30)\n",
    "    df_train, df_test = df[train_size].copy(), df[~train_size].copy()\n",
    "    \n",
    "    # Getting value of p, d, q for ARIMA model selection\n",
    "    p_value = check_for_stationary(df_train[\"Close Price\"])\n",
    "    d, df_diff = get_d(p_value, df_train)\n",
    "    model = get_model(d, df_diff['Close Price'])\n",
    "\n",
    "    # Prediction\n",
    "    forecast_df = model.forecast(len(df_test))\n",
    "\n",
    "    # Adding forcasted data into the DF\n",
    "    df[\"forecast_manual\"] = [None]*len(df_train) + list(forecast_df)\n",
    "    \n",
    "    # Plot Actual vs Predicted Values\n",
    "    plt.plot(df)\n",
    "    \n",
    "    \n",
    "\n",
    "    \n",
    "    \n",
    "        \n",
    "        "
   ]
  },
  {
   "cell_type": "markdown",
   "id": "aa1e6829-0e94-4c59-ad9f-443074d34b01",
   "metadata": {},
   "source": [
    "## Top 20 Most Famous Equities\n",
    "\n",
    "| Equity Name          | Symbol | Sentiment |\n",
    "|----------------------|--------|-----------|\n",
    "| Apple Inc.          | AAPL   | Positive  |\n",
    "| Microsoft Corp.     | MSFT   | Positive  |\n",
    "| Amazon.com Inc.     | AMZN   | Positive  |\n",
    "| Alphabet Inc. (GOOGL)| GOOGL | Positive  |\n",
    "| Alphabet Inc. (GOOG) | GOOG  | Positive  |\n",
    "| Tesla Inc.          | TSLA   | Negative  |\n",
    "| Meta Platforms Inc. | META   | Positive  |\n",
    "| NVIDIA Corp.        | NVDA   | Positive  |\n",
    "| Berkshire Hathaway  | BRK.B  | Positive  |\n",
    "| JPMorgan Chase & Co.| JPM    | Positive  |\n",
    "| Johnson & Johnson   | JNJ    | Negative  |\n",
    "| Visa Inc.          | V      | Positive  |\n",
    "| Procter & Gamble   | PG     | Positive  |\n",
    "| UnitedHealth Group | UNH    | Negative  |\n",
    "| Exxon Mobil Corp.  | XOM    | Negative  |\n",
    "| The Walt Disney Co.| DIS    | Positive  |\n",
    "| Netflix Inc.       | NFLX   | Positive  |\n",
    "| Adobe Inc.         | ADBE   | Positive  |\n",
    "| PayPal Holdings Inc\n",
    "\n",
    ".ased on market trends._\n"
   ]
  },
  {
   "cell_type": "code",
   "execution_count": null,
   "id": "fb465b89-6be2-46a7-8578-c857dc2f7670",
   "metadata": {},
   "outputs": [],
   "source": [
    "if __name__ == \"__main__\":\n",
    "    main()"
   ]
  },
  {
   "cell_type": "code",
   "execution_count": null,
   "id": "ac391b10-f571-4b7f-952a-f5a4879f3d75",
   "metadata": {},
   "outputs": [],
   "source": []
  }
 ],
 "metadata": {
  "kernelspec": {
   "display_name": "Python 3 (ipykernel)",
   "language": "python",
   "name": "python3"
  },
  "language_info": {
   "codemirror_mode": {
    "name": "ipython",
    "version": 3
   },
   "file_extension": ".py",
   "mimetype": "text/x-python",
   "name": "python",
   "nbconvert_exporter": "python",
   "pygments_lexer": "ipython3",
   "version": "3.11.7"
  }
 },
 "nbformat": 4,
 "nbformat_minor": 5
}
