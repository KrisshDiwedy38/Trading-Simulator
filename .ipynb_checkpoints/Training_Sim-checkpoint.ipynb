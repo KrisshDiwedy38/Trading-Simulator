{
 "cells": [
  {
   "cell_type": "code",
   "execution_count": 1,
   "id": "405da2f6-4716-4e16-9fbc-5be42899a7ad",
   "metadata": {},
   "outputs": [],
   "source": [
    "import requests\n",
    "import pandas as pd\n",
    "import numpy as np\n",
    "import matplotlib.pyplot as plt\n",
    "import plotly.express as px \n",
    "api_key = \"WFHZHJATQIO0HDH7\""
   ]
  },
  {
   "cell_type": "code",
   "execution_count": 6,
   "id": "6d8c7e2b-f0a8-48e1-b200-86c79637adfe",
   "metadata": {},
   "outputs": [],
   "source": [
    "def get_stocks(equity):\n",
    "    base_url = \"https://www.alphavantage.co/query?\"\n",
    "    url = base_url + 'function=TIME_SERIES_INTRADAY' + '&symbol=' + equity + '&interval=5min&extended_hours=true&apikey=' + api_key\n",
    "    response = requests.get(url)\n",
    "    if response.status_code == 200:\n",
    "        df = pd.DataFrame(response.json())\n",
    "        return df\n",
    "    else:\n",
    "        print(\"Could not fetch data\")\n",
    "        return"
   ]
  },
  {
   "cell_type": "code",
   "execution_count": 10,
   "id": "8af05384-cb18-479e-94f4-2e9a0a63a180",
   "metadata": {},
   "outputs": [],
   "source": [
    "def get_time_series(stocks):\n",
    "    return stocks[6:]"
   ]
  },
  {
   "cell_type": "code",
   "execution_count": 73,
   "id": "372e9888-734d-4855-bbb9-870e82d501cb",
   "metadata": {},
   "outputs": [],
   "source": [
    "def plot_stocks(df):\n",
    "    \n",
    "    min_close = min(df[\"Close Price\"])\n",
    "    max_close = max(df[close])\n",
    "    tick_vals = list(range(int(min_close // 2) * 2, int(max_close) + 2, 2))\n",
    "    tick_texts = [str(val) for val in tick_vals]\n",
    "\n",
    "    fig = px.line(df, x=\"Time Stamp\", y=\"Close Price\", width=1000, height=600)\n",
    "\n",
    "    fig.update_layout(\n",
    "        yaxis=dict(\n",
    "            tickmode='array',\n",
    "            tickvals=tick_vals,\n",
    "            ticktext=tick_texts,\n",
    "            range=[min_close, max_close]\n",
    "        ),\n",
    "        title=\"Stock Prices Over Time\"\n",
    "    )\n",
    "\n",
    "    fig.show()\n",
    "    return df\n"
   ]
  },
  {
   "cell_type": "code",
   "execution_count": 77,
   "id": "d3315fea-7a6c-4541-bf29-9cfa091e060c",
   "metadata": {},
   "outputs": [],
   "source": [
    "def main():\n",
    "    equity = input(\"Enter equity id: \")\n",
    "    raw_stocks = get_stocks(equity.upper())\n",
    "    time_series = get_time_series(raw_stocks)\n",
    "    stock_data = time_series[\"Time Series (5min)\"][::-1]\n",
    "    time_stamp = stock_data.index\n",
    "    close = [float(i[\"4. close\"]) for i in stock_data]\n",
    "    df = pd.DataFrame({\"Time Stamp\": time_stamp, \"Close Price\": close})\n",
    "    plot_stocks(df)"
   ]
  },
  {
   "cell_type": "markdown",
   "id": "aa1e6829-0e94-4c59-ad9f-443074d34b01",
   "metadata": {},
   "source": [
    "## Top 20 Most Famous Equities\r\n",
    "\r\n",
    "| Equity Name          | Symbol | Sentiment |\r\n",
    "|----------------------|--------|-----------|\r\n",
    "| Apple Inc.          | AAPL   | Positive  |\r\n",
    "| Microsoft Corp.     | MSFT   | Positive  |\r\n",
    "| Amazon.com Inc.     | AMZN   | Positive  |\r\n",
    "| Alphabet Inc. (GOOGL)| GOOGL | Positive  |\r\n",
    "| Alphabet Inc. (GOOG) | GOOG  | Positive  |\r\n",
    "| Tesla Inc.          | TSLA   | Negative  |\r\n",
    "| Meta Platforms Inc. | META   | Positive  |\r\n",
    "| NVIDIA Corp.        | NVDA   | Positive  |\r\n",
    "| Berkshire Hathaway  | BRK.B  | Positive  |\r\n",
    "| JPMorgan Chase & Co.| JPM    | Positive  |\r\n",
    "| Johnson & Johnson   | JNJ    | Negative  |\r\n",
    "| Visa Inc.          | V      | Positive  |\r\n",
    "| Procter & Gamble   | PG     | Positive  |\r\n",
    "| UnitedHealth Group | UNH    | Negative  |\r\n",
    "| Exxon Mobil Corp.  | XOM    | Negative  |\r\n",
    "| The Walt Disney Co.| DIS    | Positive  |\r\n",
    "| Netflix Inc.       | NFLX   | Positive  |\r\n",
    "| Adobe Inc.         | ADBE   | Positive  |\r\n",
    "| PayPal Holdings Inc\n",
    "\n",
    ".ased on market trends._\r\n"
   ]
  },
  {
   "cell_type": "code",
   "execution_count": 76,
   "id": "e26a75cc-405c-4fa9-a878-88ef2243f8d5",
   "metadata": {},
   "outputs": [
    {
     "name": "stdin",
     "output_type": "stream",
     "text": [
      "Enter equity id:  GOOG\n"
     ]
    },
    {
     "data": {
      "application/vnd.plotly.v1+json": {
       "config": {
        "plotlyServerURL": "https://plot.ly"
       },
       "data": [
        {
         "hovertemplate": "Time Stamp=%{x}<br>Close Price=%{y}<extra></extra>",
         "legendgroup": "",
         "line": {
          "color": "#636efa",
          "dash": "solid"
         },
         "marker": {
          "symbol": "circle"
         },
         "mode": "lines",
         "name": "",
         "orientation": "v",
         "showlegend": false,
         "type": "scatter",
         "x": [
          "2025-03-26 11:40:00",
          "2025-03-26 11:45:00",
          "2025-03-26 11:50:00",
          "2025-03-26 11:55:00",
          "2025-03-26 12:00:00",
          "2025-03-26 12:05:00",
          "2025-03-26 12:10:00",
          "2025-03-26 12:15:00",
          "2025-03-26 12:20:00",
          "2025-03-26 12:25:00",
          "2025-03-26 12:30:00",
          "2025-03-26 12:35:00",
          "2025-03-26 12:40:00",
          "2025-03-26 12:45:00",
          "2025-03-26 12:50:00",
          "2025-03-26 12:55:00",
          "2025-03-26 13:00:00",
          "2025-03-26 13:05:00",
          "2025-03-26 13:10:00",
          "2025-03-26 13:15:00",
          "2025-03-26 13:20:00",
          "2025-03-26 13:25:00",
          "2025-03-26 13:30:00",
          "2025-03-26 13:35:00",
          "2025-03-26 13:40:00",
          "2025-03-26 13:45:00",
          "2025-03-26 13:50:00",
          "2025-03-26 13:55:00",
          "2025-03-26 14:00:00",
          "2025-03-26 14:05:00",
          "2025-03-26 14:10:00",
          "2025-03-26 14:15:00",
          "2025-03-26 14:20:00",
          "2025-03-26 14:25:00",
          "2025-03-26 14:30:00",
          "2025-03-26 14:35:00",
          "2025-03-26 14:40:00",
          "2025-03-26 14:45:00",
          "2025-03-26 14:50:00",
          "2025-03-26 14:55:00",
          "2025-03-26 15:00:00",
          "2025-03-26 15:05:00",
          "2025-03-26 15:10:00",
          "2025-03-26 15:15:00",
          "2025-03-26 15:20:00",
          "2025-03-26 15:25:00",
          "2025-03-26 15:30:00",
          "2025-03-26 15:35:00",
          "2025-03-26 15:40:00",
          "2025-03-26 15:45:00",
          "2025-03-26 15:50:00",
          "2025-03-26 15:55:00",
          "2025-03-26 16:00:00",
          "2025-03-26 16:05:00",
          "2025-03-26 16:10:00",
          "2025-03-26 16:15:00",
          "2025-03-26 16:20:00",
          "2025-03-26 16:25:00",
          "2025-03-26 16:30:00",
          "2025-03-26 16:35:00",
          "2025-03-26 16:40:00",
          "2025-03-26 16:45:00",
          "2025-03-26 16:50:00",
          "2025-03-26 16:55:00",
          "2025-03-26 17:00:00",
          "2025-03-26 17:05:00",
          "2025-03-26 17:10:00",
          "2025-03-26 17:15:00",
          "2025-03-26 17:20:00",
          "2025-03-26 17:25:00",
          "2025-03-26 17:30:00",
          "2025-03-26 17:35:00",
          "2025-03-26 17:40:00",
          "2025-03-26 17:45:00",
          "2025-03-26 17:50:00",
          "2025-03-26 17:55:00",
          "2025-03-26 18:00:00",
          "2025-03-26 18:05:00",
          "2025-03-26 18:10:00",
          "2025-03-26 18:15:00",
          "2025-03-26 18:20:00",
          "2025-03-26 18:25:00",
          "2025-03-26 18:30:00",
          "2025-03-26 18:35:00",
          "2025-03-26 18:40:00",
          "2025-03-26 18:45:00",
          "2025-03-26 18:50:00",
          "2025-03-26 18:55:00",
          "2025-03-26 19:00:00",
          "2025-03-26 19:05:00",
          "2025-03-26 19:10:00",
          "2025-03-26 19:15:00",
          "2025-03-26 19:20:00",
          "2025-03-26 19:25:00",
          "2025-03-26 19:30:00",
          "2025-03-26 19:35:00",
          "2025-03-26 19:40:00",
          "2025-03-26 19:45:00",
          "2025-03-26 19:50:00",
          "2025-03-26 19:55:00"
         ],
         "xaxis": "x",
         "y": [
          170.3062,
          170.28,
          170.0174,
          169.97,
          169.91,
          170.15,
          169.97,
          169.83,
          169.745,
          169.94,
          169.65,
          169.623,
          169.44,
          169.55,
          169.2799,
          169.1,
          169.24,
          169.455,
          169.34,
          169.09,
          168.99,
          168.755,
          168.355,
          168.39,
          168.37,
          168.28,
          168.3438,
          168.29,
          168.19,
          168.27,
          168.4606,
          168.53,
          168.62,
          168.67,
          168.385,
          168.325,
          168.19,
          168.02,
          167.8799,
          167.855,
          167.69,
          167.575,
          167.58,
          167.53,
          167.31,
          167.2,
          167.005,
          166.985,
          167.2,
          167.4,
          167.22,
          167.14,
          167.13,
          167.15,
          167.35,
          167.18,
          167.3,
          167.07,
          167.22,
          167.22,
          167.4,
          167.59,
          167.23,
          167.42,
          167.47,
          167.54,
          167.5,
          167.58,
          167.39,
          167.45,
          167.47,
          167.53,
          167.3,
          167.19,
          167.19,
          167.18,
          167.34,
          167.2,
          167.2,
          166.81,
          167.35,
          166.72,
          166.87,
          166.7,
          166.65,
          166.68,
          166.65,
          166.5,
          166.6,
          166.58,
          166.53,
          166.7,
          166.65,
          166.69,
          166.85,
          166.86,
          166.75,
          166.89,
          167.26,
          166.9
         ],
         "yaxis": "y"
        }
       ],
       "layout": {
        "height": 600,
        "legend": {
         "tracegroupgap": 0
        },
        "margin": {
         "t": 60
        },
        "template": {
         "data": {
          "bar": [
           {
            "error_x": {
             "color": "#2a3f5f"
            },
            "error_y": {
             "color": "#2a3f5f"
            },
            "marker": {
             "line": {
              "color": "#E5ECF6",
              "width": 0.5
             },
             "pattern": {
              "fillmode": "overlay",
              "size": 10,
              "solidity": 0.2
             }
            },
            "type": "bar"
           }
          ],
          "barpolar": [
           {
            "marker": {
             "line": {
              "color": "#E5ECF6",
              "width": 0.5
             },
             "pattern": {
              "fillmode": "overlay",
              "size": 10,
              "solidity": 0.2
             }
            },
            "type": "barpolar"
           }
          ],
          "carpet": [
           {
            "aaxis": {
             "endlinecolor": "#2a3f5f",
             "gridcolor": "white",
             "linecolor": "white",
             "minorgridcolor": "white",
             "startlinecolor": "#2a3f5f"
            },
            "baxis": {
             "endlinecolor": "#2a3f5f",
             "gridcolor": "white",
             "linecolor": "white",
             "minorgridcolor": "white",
             "startlinecolor": "#2a3f5f"
            },
            "type": "carpet"
           }
          ],
          "choropleth": [
           {
            "colorbar": {
             "outlinewidth": 0,
             "ticks": ""
            },
            "type": "choropleth"
           }
          ],
          "contour": [
           {
            "colorbar": {
             "outlinewidth": 0,
             "ticks": ""
            },
            "colorscale": [
             [
              0,
              "#0d0887"
             ],
             [
              0.1111111111111111,
              "#46039f"
             ],
             [
              0.2222222222222222,
              "#7201a8"
             ],
             [
              0.3333333333333333,
              "#9c179e"
             ],
             [
              0.4444444444444444,
              "#bd3786"
             ],
             [
              0.5555555555555556,
              "#d8576b"
             ],
             [
              0.6666666666666666,
              "#ed7953"
             ],
             [
              0.7777777777777778,
              "#fb9f3a"
             ],
             [
              0.8888888888888888,
              "#fdca26"
             ],
             [
              1,
              "#f0f921"
             ]
            ],
            "type": "contour"
           }
          ],
          "contourcarpet": [
           {
            "colorbar": {
             "outlinewidth": 0,
             "ticks": ""
            },
            "type": "contourcarpet"
           }
          ],
          "heatmap": [
           {
            "colorbar": {
             "outlinewidth": 0,
             "ticks": ""
            },
            "colorscale": [
             [
              0,
              "#0d0887"
             ],
             [
              0.1111111111111111,
              "#46039f"
             ],
             [
              0.2222222222222222,
              "#7201a8"
             ],
             [
              0.3333333333333333,
              "#9c179e"
             ],
             [
              0.4444444444444444,
              "#bd3786"
             ],
             [
              0.5555555555555556,
              "#d8576b"
             ],
             [
              0.6666666666666666,
              "#ed7953"
             ],
             [
              0.7777777777777778,
              "#fb9f3a"
             ],
             [
              0.8888888888888888,
              "#fdca26"
             ],
             [
              1,
              "#f0f921"
             ]
            ],
            "type": "heatmap"
           }
          ],
          "heatmapgl": [
           {
            "colorbar": {
             "outlinewidth": 0,
             "ticks": ""
            },
            "colorscale": [
             [
              0,
              "#0d0887"
             ],
             [
              0.1111111111111111,
              "#46039f"
             ],
             [
              0.2222222222222222,
              "#7201a8"
             ],
             [
              0.3333333333333333,
              "#9c179e"
             ],
             [
              0.4444444444444444,
              "#bd3786"
             ],
             [
              0.5555555555555556,
              "#d8576b"
             ],
             [
              0.6666666666666666,
              "#ed7953"
             ],
             [
              0.7777777777777778,
              "#fb9f3a"
             ],
             [
              0.8888888888888888,
              "#fdca26"
             ],
             [
              1,
              "#f0f921"
             ]
            ],
            "type": "heatmapgl"
           }
          ],
          "histogram": [
           {
            "marker": {
             "pattern": {
              "fillmode": "overlay",
              "size": 10,
              "solidity": 0.2
             }
            },
            "type": "histogram"
           }
          ],
          "histogram2d": [
           {
            "colorbar": {
             "outlinewidth": 0,
             "ticks": ""
            },
            "colorscale": [
             [
              0,
              "#0d0887"
             ],
             [
              0.1111111111111111,
              "#46039f"
             ],
             [
              0.2222222222222222,
              "#7201a8"
             ],
             [
              0.3333333333333333,
              "#9c179e"
             ],
             [
              0.4444444444444444,
              "#bd3786"
             ],
             [
              0.5555555555555556,
              "#d8576b"
             ],
             [
              0.6666666666666666,
              "#ed7953"
             ],
             [
              0.7777777777777778,
              "#fb9f3a"
             ],
             [
              0.8888888888888888,
              "#fdca26"
             ],
             [
              1,
              "#f0f921"
             ]
            ],
            "type": "histogram2d"
           }
          ],
          "histogram2dcontour": [
           {
            "colorbar": {
             "outlinewidth": 0,
             "ticks": ""
            },
            "colorscale": [
             [
              0,
              "#0d0887"
             ],
             [
              0.1111111111111111,
              "#46039f"
             ],
             [
              0.2222222222222222,
              "#7201a8"
             ],
             [
              0.3333333333333333,
              "#9c179e"
             ],
             [
              0.4444444444444444,
              "#bd3786"
             ],
             [
              0.5555555555555556,
              "#d8576b"
             ],
             [
              0.6666666666666666,
              "#ed7953"
             ],
             [
              0.7777777777777778,
              "#fb9f3a"
             ],
             [
              0.8888888888888888,
              "#fdca26"
             ],
             [
              1,
              "#f0f921"
             ]
            ],
            "type": "histogram2dcontour"
           }
          ],
          "mesh3d": [
           {
            "colorbar": {
             "outlinewidth": 0,
             "ticks": ""
            },
            "type": "mesh3d"
           }
          ],
          "parcoords": [
           {
            "line": {
             "colorbar": {
              "outlinewidth": 0,
              "ticks": ""
             }
            },
            "type": "parcoords"
           }
          ],
          "pie": [
           {
            "automargin": true,
            "type": "pie"
           }
          ],
          "scatter": [
           {
            "fillpattern": {
             "fillmode": "overlay",
             "size": 10,
             "solidity": 0.2
            },
            "type": "scatter"
           }
          ],
          "scatter3d": [
           {
            "line": {
             "colorbar": {
              "outlinewidth": 0,
              "ticks": ""
             }
            },
            "marker": {
             "colorbar": {
              "outlinewidth": 0,
              "ticks": ""
             }
            },
            "type": "scatter3d"
           }
          ],
          "scattercarpet": [
           {
            "marker": {
             "colorbar": {
              "outlinewidth": 0,
              "ticks": ""
             }
            },
            "type": "scattercarpet"
           }
          ],
          "scattergeo": [
           {
            "marker": {
             "colorbar": {
              "outlinewidth": 0,
              "ticks": ""
             }
            },
            "type": "scattergeo"
           }
          ],
          "scattergl": [
           {
            "marker": {
             "colorbar": {
              "outlinewidth": 0,
              "ticks": ""
             }
            },
            "type": "scattergl"
           }
          ],
          "scattermapbox": [
           {
            "marker": {
             "colorbar": {
              "outlinewidth": 0,
              "ticks": ""
             }
            },
            "type": "scattermapbox"
           }
          ],
          "scatterpolar": [
           {
            "marker": {
             "colorbar": {
              "outlinewidth": 0,
              "ticks": ""
             }
            },
            "type": "scatterpolar"
           }
          ],
          "scatterpolargl": [
           {
            "marker": {
             "colorbar": {
              "outlinewidth": 0,
              "ticks": ""
             }
            },
            "type": "scatterpolargl"
           }
          ],
          "scatterternary": [
           {
            "marker": {
             "colorbar": {
              "outlinewidth": 0,
              "ticks": ""
             }
            },
            "type": "scatterternary"
           }
          ],
          "surface": [
           {
            "colorbar": {
             "outlinewidth": 0,
             "ticks": ""
            },
            "colorscale": [
             [
              0,
              "#0d0887"
             ],
             [
              0.1111111111111111,
              "#46039f"
             ],
             [
              0.2222222222222222,
              "#7201a8"
             ],
             [
              0.3333333333333333,
              "#9c179e"
             ],
             [
              0.4444444444444444,
              "#bd3786"
             ],
             [
              0.5555555555555556,
              "#d8576b"
             ],
             [
              0.6666666666666666,
              "#ed7953"
             ],
             [
              0.7777777777777778,
              "#fb9f3a"
             ],
             [
              0.8888888888888888,
              "#fdca26"
             ],
             [
              1,
              "#f0f921"
             ]
            ],
            "type": "surface"
           }
          ],
          "table": [
           {
            "cells": {
             "fill": {
              "color": "#EBF0F8"
             },
             "line": {
              "color": "white"
             }
            },
            "header": {
             "fill": {
              "color": "#C8D4E3"
             },
             "line": {
              "color": "white"
             }
            },
            "type": "table"
           }
          ]
         },
         "layout": {
          "annotationdefaults": {
           "arrowcolor": "#2a3f5f",
           "arrowhead": 0,
           "arrowwidth": 1
          },
          "autotypenumbers": "strict",
          "coloraxis": {
           "colorbar": {
            "outlinewidth": 0,
            "ticks": ""
           }
          },
          "colorscale": {
           "diverging": [
            [
             0,
             "#8e0152"
            ],
            [
             0.1,
             "#c51b7d"
            ],
            [
             0.2,
             "#de77ae"
            ],
            [
             0.3,
             "#f1b6da"
            ],
            [
             0.4,
             "#fde0ef"
            ],
            [
             0.5,
             "#f7f7f7"
            ],
            [
             0.6,
             "#e6f5d0"
            ],
            [
             0.7,
             "#b8e186"
            ],
            [
             0.8,
             "#7fbc41"
            ],
            [
             0.9,
             "#4d9221"
            ],
            [
             1,
             "#276419"
            ]
           ],
           "sequential": [
            [
             0,
             "#0d0887"
            ],
            [
             0.1111111111111111,
             "#46039f"
            ],
            [
             0.2222222222222222,
             "#7201a8"
            ],
            [
             0.3333333333333333,
             "#9c179e"
            ],
            [
             0.4444444444444444,
             "#bd3786"
            ],
            [
             0.5555555555555556,
             "#d8576b"
            ],
            [
             0.6666666666666666,
             "#ed7953"
            ],
            [
             0.7777777777777778,
             "#fb9f3a"
            ],
            [
             0.8888888888888888,
             "#fdca26"
            ],
            [
             1,
             "#f0f921"
            ]
           ],
           "sequentialminus": [
            [
             0,
             "#0d0887"
            ],
            [
             0.1111111111111111,
             "#46039f"
            ],
            [
             0.2222222222222222,
             "#7201a8"
            ],
            [
             0.3333333333333333,
             "#9c179e"
            ],
            [
             0.4444444444444444,
             "#bd3786"
            ],
            [
             0.5555555555555556,
             "#d8576b"
            ],
            [
             0.6666666666666666,
             "#ed7953"
            ],
            [
             0.7777777777777778,
             "#fb9f3a"
            ],
            [
             0.8888888888888888,
             "#fdca26"
            ],
            [
             1,
             "#f0f921"
            ]
           ]
          },
          "colorway": [
           "#636efa",
           "#EF553B",
           "#00cc96",
           "#ab63fa",
           "#FFA15A",
           "#19d3f3",
           "#FF6692",
           "#B6E880",
           "#FF97FF",
           "#FECB52"
          ],
          "font": {
           "color": "#2a3f5f"
          },
          "geo": {
           "bgcolor": "white",
           "lakecolor": "white",
           "landcolor": "#E5ECF6",
           "showlakes": true,
           "showland": true,
           "subunitcolor": "white"
          },
          "hoverlabel": {
           "align": "left"
          },
          "hovermode": "closest",
          "mapbox": {
           "style": "light"
          },
          "paper_bgcolor": "white",
          "plot_bgcolor": "#E5ECF6",
          "polar": {
           "angularaxis": {
            "gridcolor": "white",
            "linecolor": "white",
            "ticks": ""
           },
           "bgcolor": "#E5ECF6",
           "radialaxis": {
            "gridcolor": "white",
            "linecolor": "white",
            "ticks": ""
           }
          },
          "scene": {
           "xaxis": {
            "backgroundcolor": "#E5ECF6",
            "gridcolor": "white",
            "gridwidth": 2,
            "linecolor": "white",
            "showbackground": true,
            "ticks": "",
            "zerolinecolor": "white"
           },
           "yaxis": {
            "backgroundcolor": "#E5ECF6",
            "gridcolor": "white",
            "gridwidth": 2,
            "linecolor": "white",
            "showbackground": true,
            "ticks": "",
            "zerolinecolor": "white"
           },
           "zaxis": {
            "backgroundcolor": "#E5ECF6",
            "gridcolor": "white",
            "gridwidth": 2,
            "linecolor": "white",
            "showbackground": true,
            "ticks": "",
            "zerolinecolor": "white"
           }
          },
          "shapedefaults": {
           "line": {
            "color": "#2a3f5f"
           }
          },
          "ternary": {
           "aaxis": {
            "gridcolor": "white",
            "linecolor": "white",
            "ticks": ""
           },
           "baxis": {
            "gridcolor": "white",
            "linecolor": "white",
            "ticks": ""
           },
           "bgcolor": "#E5ECF6",
           "caxis": {
            "gridcolor": "white",
            "linecolor": "white",
            "ticks": ""
           }
          },
          "title": {
           "x": 0.05
          },
          "xaxis": {
           "automargin": true,
           "gridcolor": "white",
           "linecolor": "white",
           "ticks": "",
           "title": {
            "standoff": 15
           },
           "zerolinecolor": "white",
           "zerolinewidth": 2
          },
          "yaxis": {
           "automargin": true,
           "gridcolor": "white",
           "linecolor": "white",
           "ticks": "",
           "title": {
            "standoff": 15
           },
           "zerolinecolor": "white",
           "zerolinewidth": 2
          }
         }
        },
        "title": {
         "text": "Stock Prices Over Time"
        },
        "width": 1000,
        "xaxis": {
         "anchor": "y",
         "autorange": true,
         "domain": [
          0,
          1
         ],
         "range": [
          "2025-03-26 11:40",
          "2025-03-26 19:55"
         ],
         "title": {
          "text": "Time Stamp"
         },
         "type": "date"
        },
        "yaxis": {
         "anchor": "x",
         "domain": [
          0,
          1
         ],
         "range": [
          166.5,
          170.3062
         ],
         "tickmode": "array",
         "ticktext": [
          "166",
          "168",
          "170"
         ],
         "tickvals": [
          166,
          168,
          170
         ],
         "title": {
          "text": "Close Price"
         },
         "type": "linear"
        }
       }
      },
      "image/png": "[encoded data removed]",
      "text/html": [
       "<div>                            <div id=\"0e70b906-d452-41a2-be0d-aa8f5451d594\" class=\"plotly-graph-div\" style=\"height:600px; width:1000px;\"></div>            <script type=\"text/javascript\">                require([\"plotly\"], function(Plotly) {                    window.PLOTLYENV=window.PLOTLYENV || {};                                    if (document.getElementById(\"0e70b906-d452-41a2-be0d-aa8f5451d594\")) {                    Plotly.newPlot(                        \"0e70b906-d452-41a2-be0d-aa8f5451d594\",                        [{\"hovertemplate\":\"Time Stamp=%{x}<br>Close Price=%{y}<extra></extra>\",\"legendgroup\":\"\",\"line\":{\"color\":\"#636efa\",\"dash\":\"solid\"},\"marker\":{\"symbol\":\"circle\"},\"mode\":\"lines\",\"name\":\"\",\"orientation\":\"v\",\"showlegend\":false,\"x\":[\"2025-03-26 11:40:00\",\"2025-03-26 11:45:00\",\"2025-03-26 11:50:00\",\"2025-03-26 11:55:00\",\"2025-03-26 12:00:00\",\"2025-03-26 12:05:00\",\"2025-03-26 12:10:00\",\"2025-03-26 12:15:00\",\"2025-03-26 12:20:00\",\"2025-03-26 12:25:00\",\"2025-03-26 12:30:00\",\"2025-03-26 12:35:00\",\"2025-03-26 12:40:00\",\"2025-03-26 12:45:00\",\"2025-03-26 12:50:00\",\"2025-03-26 12:55:00\",\"2025-03-26 13:00:00\",\"2025-03-26 13:05:00\",\"2025-03-26 13:10:00\",\"2025-03-26 13:15:00\",\"2025-03-26 13:20:00\",\"2025-03-26 13:25:00\",\"2025-03-26 13:30:00\",\"2025-03-26 13:35:00\",\"2025-03-26 13:40:00\",\"2025-03-26 13:45:00\",\"2025-03-26 13:50:00\",\"2025-03-26 13:55:00\",\"2025-03-26 14:00:00\",\"2025-03-26 14:05:00\",\"2025-03-26 14:10:00\",\"2025-03-26 14:15:00\",\"2025-03-26 14:20:00\",\"2025-03-26 14:25:00\",\"2025-03-26 14:30:00\",\"2025-03-26 14:35:00\",\"2025-03-26 14:40:00\",\"2025-03-26 14:45:00\",\"2025-03-26 14:50:00\",\"2025-03-26 14:55:00\",\"2025-03-26 15:00:00\",\"2025-03-26 15:05:00\",\"2025-03-26 15:10:00\",\"2025-03-26 15:15:00\",\"2025-03-26 15:20:00\",\"2025-03-26 15:25:00\",\"2025-03-26 15:30:00\",\"2025-03-26 15:35:00\",\"2025-03-26 15:40:00\",\"2025-03-26 15:45:00\",\"2025-03-26 15:50:00\",\"2025-03-26 15:55:00\",\"2025-03-26 16:00:00\",\"2025-03-26 16:05:00\",\"2025-03-26 16:10:00\",\"2025-03-26 16:15:00\",\"2025-03-26 16:20:00\",\"2025-03-26 16:25:00\",\"2025-03-26 16:30:00\",\"2025-03-26 16:35:00\",\"2025-03-26 16:40:00\",\"2025-03-26 16:45:00\",\"2025-03-26 16:50:00\",\"2025-03-26 16:55:00\",\"2025-03-26 17:00:00\",\"2025-03-26 17:05:00\",\"2025-03-26 17:10:00\",\"2025-03-26 17:15:00\",\"2025-03-26 17:20:00\",\"2025-03-26 17:25:00\",\"2025-03-26 17:30:00\",\"2025-03-26 17:35:00\",\"2025-03-26 17:40:00\",\"2025-03-26 17:45:00\",\"2025-03-26 17:50:00\",\"2025-03-26 17:55:00\",\"2025-03-26 18:00:00\",\"2025-03-26 18:05:00\",\"2025-03-26 18:10:00\",\"2025-03-26 18:15:00\",\"2025-03-26 18:20:00\",\"2025-03-26 18:25:00\",\"2025-03-26 18:30:00\",\"2025-03-26 18:35:00\",\"2025-03-26 18:40:00\",\"2025-03-26 18:45:00\",\"2025-03-26 18:50:00\",\"2025-03-26 18:55:00\",\"2025-03-26 19:00:00\",\"2025-03-26 19:05:00\",\"2025-03-26 19:10:00\",\"2025-03-26 19:15:00\",\"2025-03-26 19:20:00\",\"2025-03-26 19:25:00\",\"2025-03-26 19:30:00\",\"2025-03-26 19:35:00\",\"2025-03-26 19:40:00\",\"2025-03-26 19:45:00\",\"2025-03-26 19:50:00\",\"2025-03-26 19:55:00\"],\"xaxis\":\"x\",\"y\":[170.3062,170.28,170.0174,169.97,169.91,170.15,169.97,169.83,169.745,169.94,169.65,169.623,169.44,169.55,169.2799,169.1,169.24,169.455,169.34,169.09,168.99,168.755,168.355,168.39,168.37,168.28,168.3438,168.29,168.19,168.27,168.4606,168.53,168.62,168.67,168.385,168.325,168.19,168.02,167.8799,167.855,167.69,167.575,167.58,167.53,167.31,167.2,167.005,166.985,167.2,167.4,167.22,167.14,167.13,167.15,167.35,167.18,167.3,167.07,167.22,167.22,167.4,167.59,167.23,167.42,167.47,167.54,167.5,167.58,167.39,167.45,167.47,167.53,167.3,167.19,167.19,167.18,167.34,167.2,167.2,166.81,167.35,166.72,166.87,166.7,166.65,166.68,166.65,166.5,166.6,166.58,166.53,166.7,166.65,166.69,166.85,166.86,166.75,166.89,167.26,166.9],\"yaxis\":\"y\",\"type\":\"scatter\"}],                        {\"template\":{\"data\":{\"histogram2dcontour\":[{\"type\":\"histogram2dcontour\",\"colorbar\":{\"outlinewidth\":0,\"ticks\":\"\"},\"colorscale\":[[0.0,\"#0d0887\"],[0.1111111111111111,\"#46039f\"],[0.2222222222222222,\"#7201a8\"],[0.3333333333333333,\"#9c179e\"],[0.4444444444444444,\"#bd3786\"],[0.5555555555555556,\"#d8576b\"],[0.6666666666666666,\"#ed7953\"],[0.7777777777777778,\"#fb9f3a\"],[0.8888888888888888,\"#fdca26\"],[1.0,\"#f0f921\"]]}],\"choropleth\":[{\"type\":\"choropleth\",\"colorbar\":{\"outlinewidth\":0,\"ticks\":\"\"}}],\"histogram2d\":[{\"type\":\"histogram2d\",\"colorbar\":{\"outlinewidth\":0,\"ticks\":\"\"},\"colorscale\":[[0.0,\"#0d0887\"],[0.1111111111111111,\"#46039f\"],[0.2222222222222222,\"#7201a8\"],[0.3333333333333333,\"#9c179e\"],[0.4444444444444444,\"#bd3786\"],[0.5555555555555556,\"#d8576b\"],[0.6666666666666666,\"#ed7953\"],[0.7777777777777778,\"#fb9f3a\"],[0.8888888888888888,\"#fdca26\"],[1.0,\"#f0f921\"]]}],\"heatmap\":[{\"type\":\"heatmap\",\"colorbar\":{\"outlinewidth\":0,\"ticks\":\"\"},\"colorscale\":[[0.0,\"#0d0887\"],[0.1111111111111111,\"#46039f\"],[0.2222222222222222,\"#7201a8\"],[0.3333333333333333,\"#9c179e\"],[0.4444444444444444,\"#bd3786\"],[0.5555555555555556,\"#d8576b\"],[0.6666666666666666,\"#ed7953\"],[0.7777777777777778,\"#fb9f3a\"],[0.8888888888888888,\"#fdca26\"],[1.0,\"#f0f921\"]]}],\"heatmapgl\":[{\"type\":\"heatmapgl\",\"colorbar\":{\"outlinewidth\":0,\"ticks\":\"\"},\"colorscale\":[[0.0,\"#0d0887\"],[0.1111111111111111,\"#46039f\"],[0.2222222222222222,\"#7201a8\"],[0.3333333333333333,\"#9c179e\"],[0.4444444444444444,\"#bd3786\"],[0.5555555555555556,\"#d8576b\"],[0.6666666666666666,\"#ed7953\"],[0.7777777777777778,\"#fb9f3a\"],[0.8888888888888888,\"#fdca26\"],[1.0,\"#f0f921\"]]}],\"contourcarpet\":[{\"type\":\"contourcarpet\",\"colorbar\":{\"outlinewidth\":0,\"ticks\":\"\"}}],\"contour\":[{\"type\":\"contour\",\"colorbar\":{\"outlinewidth\":0,\"ticks\":\"\"},\"colorscale\":[[0.0,\"#0d0887\"],[0.1111111111111111,\"#46039f\"],[0.2222222222222222,\"#7201a8\"],[0.3333333333333333,\"#9c179e\"],[0.4444444444444444,\"#bd3786\"],[0.5555555555555556,\"#d8576b\"],[0.6666666666666666,\"#ed7953\"],[0.7777777777777778,\"#fb9f3a\"],[0.8888888888888888,\"#fdca26\"],[1.0,\"#f0f921\"]]}],\"surface\":[{\"type\":\"surface\",\"colorbar\":{\"outlinewidth\":0,\"ticks\":\"\"},\"colorscale\":[[0.0,\"#0d0887\"],[0.1111111111111111,\"#46039f\"],[0.2222222222222222,\"#7201a8\"],[0.3333333333333333,\"#9c179e\"],[0.4444444444444444,\"#bd3786\"],[0.5555555555555556,\"#d8576b\"],[0.6666666666666666,\"#ed7953\"],[0.7777777777777778,\"#fb9f3a\"],[0.8888888888888888,\"#fdca26\"],[1.0,\"#f0f921\"]]}],\"mesh3d\":[{\"type\":\"mesh3d\",\"colorbar\":{\"outlinewidth\":0,\"ticks\":\"\"}}],\"scatter\":[{\"fillpattern\":{\"fillmode\":\"overlay\",\"size\":10,\"solidity\":0.2},\"type\":\"scatter\"}],\"parcoords\":[{\"type\":\"parcoords\",\"line\":{\"colorbar\":{\"outlinewidth\":0,\"ticks\":\"\"}}}],\"scatterpolargl\":[{\"type\":\"scatterpolargl\",\"marker\":{\"colorbar\":{\"outlinewidth\":0,\"ticks\":\"\"}}}],\"bar\":[{\"error_x\":{\"color\":\"#2a3f5f\"},\"error_y\":{\"color\":\"#2a3f5f\"},\"marker\":{\"line\":{\"color\":\"#E5ECF6\",\"width\":0.5},\"pattern\":{\"fillmode\":\"overlay\",\"size\":10,\"solidity\":0.2}},\"type\":\"bar\"}],\"scattergeo\":[{\"type\":\"scattergeo\",\"marker\":{\"colorbar\":{\"outlinewidth\":0,\"ticks\":\"\"}}}],\"scatterpolar\":[{\"type\":\"scatterpolar\",\"marker\":{\"colorbar\":{\"outlinewidth\":0,\"ticks\":\"\"}}}],\"histogram\":[{\"marker\":{\"pattern\":{\"fillmode\":\"overlay\",\"size\":10,\"solidity\":0.2}},\"type\":\"histogram\"}],\"scattergl\":[{\"type\":\"scattergl\",\"marker\":{\"colorbar\":{\"outlinewidth\":0,\"ticks\":\"\"}}}],\"scatter3d\":[{\"type\":\"scatter3d\",\"line\":{\"colorbar\":{\"outlinewidth\":0,\"ticks\":\"\"}},\"marker\":{\"colorbar\":{\"outlinewidth\":0,\"ticks\":\"\"}}}],\"scattermapbox\":[{\"type\":\"scattermapbox\",\"marker\":{\"colorbar\":{\"outlinewidth\":0,\"ticks\":\"\"}}}],\"scatterternary\":[{\"type\":\"scatterternary\",\"marker\":{\"colorbar\":{\"outlinewidth\":0,\"ticks\":\"\"}}}],\"scattercarpet\":[{\"type\":\"scattercarpet\",\"marker\":{\"colorbar\":{\"outlinewidth\":0,\"ticks\":\"\"}}}],\"carpet\":[{\"aaxis\":{\"endlinecolor\":\"#2a3f5f\",\"gridcolor\":\"white\",\"linecolor\":\"white\",\"minorgridcolor\":\"white\",\"startlinecolor\":\"#2a3f5f\"},\"baxis\":{\"endlinecolor\":\"#2a3f5f\",\"gridcolor\":\"white\",\"linecolor\":\"white\",\"minorgridcolor\":\"white\",\"startlinecolor\":\"#2a3f5f\"},\"type\":\"carpet\"}],\"table\":[{\"cells\":{\"fill\":{\"color\":\"#EBF0F8\"},\"line\":{\"color\":\"white\"}},\"header\":{\"fill\":{\"color\":\"#C8D4E3\"},\"line\":{\"color\":\"white\"}},\"type\":\"table\"}],\"barpolar\":[{\"marker\":{\"line\":{\"color\":\"#E5ECF6\",\"width\":0.5},\"pattern\":{\"fillmode\":\"overlay\",\"size\":10,\"solidity\":0.2}},\"type\":\"barpolar\"}],\"pie\":[{\"automargin\":true,\"type\":\"pie\"}]},\"layout\":{\"autotypenumbers\":\"strict\",\"colorway\":[\"#636efa\",\"#EF553B\",\"#00cc96\",\"#ab63fa\",\"#FFA15A\",\"#19d3f3\",\"#FF6692\",\"#B6E880\",\"#FF97FF\",\"#FECB52\"],\"font\":{\"color\":\"#2a3f5f\"},\"hovermode\":\"closest\",\"hoverlabel\":{\"align\":\"left\"},\"paper_bgcolor\":\"white\",\"plot_bgcolor\":\"#E5ECF6\",\"polar\":{\"bgcolor\":\"#E5ECF6\",\"angularaxis\":{\"gridcolor\":\"white\",\"linecolor\":\"white\",\"ticks\":\"\"},\"radialaxis\":{\"gridcolor\":\"white\",\"linecolor\":\"white\",\"ticks\":\"\"}},\"ternary\":{\"bgcolor\":\"#E5ECF6\",\"aaxis\":{\"gridcolor\":\"white\",\"linecolor\":\"white\",\"ticks\":\"\"},\"baxis\":{\"gridcolor\":\"white\",\"linecolor\":\"white\",\"ticks\":\"\"},\"caxis\":{\"gridcolor\":\"white\",\"linecolor\":\"white\",\"ticks\":\"\"}},\"coloraxis\":{\"colorbar\":{\"outlinewidth\":0,\"ticks\":\"\"}},\"colorscale\":{\"sequential\":[[0.0,\"#0d0887\"],[0.1111111111111111,\"#46039f\"],[0.2222222222222222,\"#7201a8\"],[0.3333333333333333,\"#9c179e\"],[0.4444444444444444,\"#bd3786\"],[0.5555555555555556,\"#d8576b\"],[0.6666666666666666,\"#ed7953\"],[0.7777777777777778,\"#fb9f3a\"],[0.8888888888888888,\"#fdca26\"],[1.0,\"#f0f921\"]],\"sequentialminus\":[[0.0,\"#0d0887\"],[0.1111111111111111,\"#46039f\"],[0.2222222222222222,\"#7201a8\"],[0.3333333333333333,\"#9c179e\"],[0.4444444444444444,\"#bd3786\"],[0.5555555555555556,\"#d8576b\"],[0.6666666666666666,\"#ed7953\"],[0.7777777777777778,\"#fb9f3a\"],[0.8888888888888888,\"#fdca26\"],[1.0,\"#f0f921\"]],\"diverging\":[[0,\"#8e0152\"],[0.1,\"#c51b7d\"],[0.2,\"#de77ae\"],[0.3,\"#f1b6da\"],[0.4,\"#fde0ef\"],[0.5,\"#f7f7f7\"],[0.6,\"#e6f5d0\"],[0.7,\"#b8e186\"],[0.8,\"#7fbc41\"],[0.9,\"#4d9221\"],[1,\"#276419\"]]},\"xaxis\":{\"gridcolor\":\"white\",\"linecolor\":\"white\",\"ticks\":\"\",\"title\":{\"standoff\":15},\"zerolinecolor\":\"white\",\"automargin\":true,\"zerolinewidth\":2},\"yaxis\":{\"gridcolor\":\"white\",\"linecolor\":\"white\",\"ticks\":\"\",\"title\":{\"standoff\":15},\"zerolinecolor\":\"white\",\"automargin\":true,\"zerolinewidth\":2},\"scene\":{\"xaxis\":{\"backgroundcolor\":\"#E5ECF6\",\"gridcolor\":\"white\",\"linecolor\":\"white\",\"showbackground\":true,\"ticks\":\"\",\"zerolinecolor\":\"white\",\"gridwidth\":2},\"yaxis\":{\"backgroundcolor\":\"#E5ECF6\",\"gridcolor\":\"white\",\"linecolor\":\"white\",\"showbackground\":true,\"ticks\":\"\",\"zerolinecolor\":\"white\",\"gridwidth\":2},\"zaxis\":{\"backgroundcolor\":\"#E5ECF6\",\"gridcolor\":\"white\",\"linecolor\":\"white\",\"showbackground\":true,\"ticks\":\"\",\"zerolinecolor\":\"white\",\"gridwidth\":2}},\"shapedefaults\":{\"line\":{\"color\":\"#2a3f5f\"}},\"annotationdefaults\":{\"arrowcolor\":\"#2a3f5f\",\"arrowhead\":0,\"arrowwidth\":1},\"geo\":{\"bgcolor\":\"white\",\"landcolor\":\"#E5ECF6\",\"subunitcolor\":\"white\",\"showland\":true,\"showlakes\":true,\"lakecolor\":\"white\"},\"title\":{\"x\":0.05},\"mapbox\":{\"style\":\"light\"}}},\"xaxis\":{\"anchor\":\"y\",\"domain\":[0.0,1.0],\"title\":{\"text\":\"Time Stamp\"}},\"yaxis\":{\"anchor\":\"x\",\"domain\":[0.0,1.0],\"title\":{\"text\":\"Close Price\"},\"tickmode\":\"array\",\"tickvals\":[166,168,170],\"ticktext\":[\"166\",\"168\",\"170\"],\"range\":[166.5,170.3062]},\"legend\":{\"tracegroupgap\":0},\"margin\":{\"t\":60},\"height\":600,\"width\":1000,\"title\":{\"text\":\"Stock Prices Over Time\"}},                        {\"responsive\": true}                    ).then(function(){\n",
       "                            \n",
       "var gd = document.getElementById('0e70b906-d452-41a2-be0d-aa8f5451d594');\n",
       "var x = new MutationObserver(function (mutations, observer) {{\n",
       "        var display = window.getComputedStyle(gd).display;\n",
       "        if (!display || display === 'none') {{\n",
       "            console.log([gd, 'removed!']);\n",
       "            Plotly.purge(gd);\n",
       "            observer.disconnect();\n",
       "        }}\n",
       "}});\n",
       "\n",
       "// Listen for the removal of the full notebook cells\n",
       "var notebookContainer = gd.closest('#notebook-container');\n",
       "if (notebookContainer) {{\n",
       "    x.observe(notebookContainer, {childList: true});\n",
       "}}\n",
       "\n",
       "// Listen for the clearing of the current output cell\n",
       "var outputEl = gd.closest('.output');\n",
       "if (outputEl) {{\n",
       "    x.observe(outputEl, {childList: true});\n",
       "}}\n",
       "\n",
       "                        })                };                });            </script>        </div>"
      ]
     },
     "metadata": {},
     "output_type": "display_data"
    }
   ],
   "source": [
    "main()"
   ]
  },
  {
   "cell_type": "code",
   "execution_count": null,
   "id": "55c500b2-f34e-4a92-b722-e03cd8adbe78",
   "metadata": {},
   "outputs": [],
   "source": []
  }
 ],
 "metadata": {
  "kernelspec": {
   "display_name": "Python 3 (ipykernel)",
   "language": "python",
   "name": "python3"
  },
  "language_info": {
   "codemirror_mode": {
    "name": "ipython",
    "version": 3
   },
   "file_extension": ".py",
   "mimetype": "text/x-python",
   "name": "python",
   "nbconvert_exporter": "python",
   "pygments_lexer": "ipython3",
   "version": "3.11.7"
  }
 },
 "nbformat": 4,
 "nbformat_minor": 5
}
