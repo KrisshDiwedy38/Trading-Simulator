{
 "cells": [
  {
   "cell_type": "code",
   "execution_count": 31,
   "id": "405da2f6-4716-4e16-9fbc-5be42899a7ad",
   "metadata": {},
   "outputs": [],
   "source": [
    "import requests\n",
    "import pandas as pd\n",
    "import numpy as np\n",
    "import math\n",
    "import plotly.express as px \n",
    "import matplotlib.pyplot as plt\n",
    "api_key = \"WFHZHJATQIO0HDH7\"\n",
    "import warnings\n",
    "\n",
    "# Ignore all warnings\n",
    "warnings.filterwarnings(\"ignore\")\n"
   ]
  },
  {
   "cell_type": "code",
   "execution_count": 32,
   "id": "6d8c7e2b-f0a8-48e1-b200-86c79637adfe",
   "metadata": {},
   "outputs": [],
   "source": [
    "def get_stocks(equity):\n",
    "    base_url = \"https://www.alphavantage.co/query?\"\n",
    "    url = base_url + 'function=TIME_SERIES_INTRADAY' + '&symbol=' + equity + '&interval=5min&extended_hours=true&apikey=' + api_key\n",
    "    response = requests.get(url)\n",
    "    try:\n",
    "        if response.status_code == 200:\n",
    "            df = pd.DataFrame(response.json())\n",
    "            return df\n",
    "        else:\n",
    "            print(\"Could not fetch data\")\n",
    "            return\n",
    "    except Exception as e:\n",
    "        print(f\"Error in getting stock data  -  {e}\")\n",
    "        return "
   ]
  },
  {
   "cell_type": "code",
   "execution_count": 33,
   "id": "8af05384-cb18-479e-94f4-2e9a0a63a180",
   "metadata": {},
   "outputs": [],
   "source": [
    "def get_time_series(stocks):\n",
    "    return stocks[6:]"
   ]
  },
  {
   "cell_type": "code",
   "execution_count": 34,
   "id": "372e9888-734d-4855-bbb9-870e82d501cb",
   "metadata": {},
   "outputs": [],
   "source": [
    "def plot_stocks(df):\n",
    "    \n",
    "    min_close = min(df[\"Close Price\"])\n",
    "    max_close = max(df[\"Close Price\"])\n",
    "    tick_vals = list(range(int(min_close // 2) * 2, int(max_close) + 2, 2))\n",
    "    tick_texts = [str(val) for val in tick_vals]\n",
    "\n",
    "    fig = px.line(df, x=\"Time Stamp\", y=\"Close Price\", width=1000, height=600)\n",
    "\n",
    "    fig.update_layout(\n",
    "        yaxis=dict(\n",
    "            tickmode='array',\n",
    "            tickvals=tick_vals,\n",
    "            ticktext=tick_texts,\n",
    "            range=[min_close, max_close]\n",
    "        ),\n",
    "        title=\"Stock Prices Over Time\"\n",
    "    )\n",
    "\n",
    "    fig.show()\n",
    "    return df\n"
   ]
  },
  {
   "cell_type": "code",
   "execution_count": 35,
   "id": "324a2c78-36d3-4bb7-8b30-df3682cf6f2f",
   "metadata": {},
   "outputs": [],
   "source": [
    "from statsmodels.tsa.stattools import adfuller\n",
    "def check_for_stationary(df):\n",
    "    adf_test = adfuller(df)\n",
    "    return adf_test[1]\n",
    "    "
   ]
  },
  {
   "cell_type": "code",
   "execution_count": 84,
   "id": "34f68b71-38e5-41b9-bbb6-1a289318bd1b",
   "metadata": {},
   "outputs": [],
   "source": [
    "def differentiate(df_diff):\n",
    "    df_diff['Close Price'] = df_diff['Close Price'].diff()\n",
    "    x = df_diff['Close Price'].median()\n",
    "    df_diff.fillna(x,inplace = True)\n",
    "    return df_diff\n",
    "    "
   ]
  },
  {
   "cell_type": "code",
   "execution_count": 85,
   "id": "798f019b-04e5-487d-ba85-98cb27d4f656",
   "metadata": {},
   "outputs": [],
   "source": [
    "def get_d(p_value, df):\n",
    "    d = 0\n",
    "    while round(p_value,2) > 0.05:\n",
    "        d += 1\n",
    "        df = differentiate(df)\n",
    "        p_value = check_for_stationary(df[\"Close Price\"])\n",
    "    return d, df\n",
    "    "
   ]
  },
  {
   "cell_type": "code",
   "execution_count": 86,
   "id": "5e046efb-8f82-40d4-9c62-0372975d4bdf",
   "metadata": {},
   "outputs": [],
   "source": [
    "import statsmodels.api as sm\n",
    "import itertools\n",
    "def get_model(d,df):\n",
    "    p_values = range(0, 5)\n",
    "    q_values = range(0, 5)\n",
    "    \n",
    "    pq_combinations = list(itertools.product(p_values, q_values))\n",
    "    \n",
    "    best_aic = float(\"inf\")\n",
    "    best_order = None\n",
    "    \n",
    "    for p, q in pq_combinations:\n",
    "        try:\n",
    "            model = sm.tsa.ARIMA(df, order=(p, d, q)).fit()\n",
    "            if model.aic < best_aic:\n",
    "                best_aic = model.aic\n",
    "                best_order = (p, d, q)\n",
    "        except Exception as e:\n",
    "            continue\n",
    "    print(f\"p = {p}, q = {q}\")\n",
    "    return model\n"
   ]
  },
  {
   "cell_type": "code",
   "execution_count": 87,
   "id": "d3315fea-7a6c-4541-bf29-9cfa091e060c",
   "metadata": {},
   "outputs": [],
   "source": [
    "import math\n",
    "import json\n",
    "\n",
    "def main():\n",
    "    equity = input(\"Enter equity id: \")\n",
    "    raw_stocks = get_stocks(equity.upper())\n",
    "    time_series = get_time_series(raw_stocks)\n",
    "    stock_data = time_series[\"Time Series (5min)\"][::-1]\n",
    "    time_stamp = stock_data.index\n",
    "    close = [float(i[\"4. close\"]) for i in stock_data]\n",
    "    df = pd.DataFrame({\"Time Stamp\": time_stamp, \"Close Price\": close})\n",
    "    plot_stocks(df)  # Plot the original DataFrame\n",
    "    train_size = (df.index < len(df)-30)\n",
    "    df_train, df_test = df[train_size].copy(), df[~train_size].copy() # Spliting the data into Train and Test\n",
    "    p_value = check_for_stationary(df_train[\"Close Price\"])\n",
    "    print(f\"p value = {p_value}\")\n",
    "    d, df_diff = get_d(p_value, df_train)\n",
    "    print(f\" d = {d}\")\n",
    "    model = get_model(d, df_diff['Close Price'])\n",
    "    print(model.summary())\n",
    "    forecast_df = model.forecast(len(df_test))\n",
    "    df[\"forecast_manual\"] = [None]*len(df_train) + list(forecast_df)\n",
    "    df.plot()\n",
    "    \n",
    "    \n",
    "\n",
    "    \n",
    "    \n",
    "        \n",
    "        "
   ]
  },
  {
   "cell_type": "markdown",
   "id": "aa1e6829-0e94-4c59-ad9f-443074d34b01",
   "metadata": {},
   "source": [
    "## Top 20 Most Famous Equities\n",
    "\n",
    "| Equity Name          | Symbol | Sentiment |\n",
    "|----------------------|--------|-----------|\n",
    "| Apple Inc.          | AAPL   | Positive  |\n",
    "| Microsoft Corp.     | MSFT   | Positive  |\n",
    "| Amazon.com Inc.     | AMZN   | Positive  |\n",
    "| Alphabet Inc. (GOOGL)| GOOGL | Positive  |\n",
    "| Alphabet Inc. (GOOG) | GOOG  | Positive  |\n",
    "| Tesla Inc.          | TSLA   | Negative  |\n",
    "| Meta Platforms Inc. | META   | Positive  |\n",
    "| NVIDIA Corp.        | NVDA   | Positive  |\n",
    "| Berkshire Hathaway  | BRK.B  | Positive  |\n",
    "| JPMorgan Chase & Co.| JPM    | Positive  |\n",
    "| Johnson & Johnson   | JNJ    | Negative  |\n",
    "| Visa Inc.          | V      | Positive  |\n",
    "| Procter & Gamble   | PG     | Positive  |\n",
    "| UnitedHealth Group | UNH    | Negative  |\n",
    "| Exxon Mobil Corp.  | XOM    | Negative  |\n",
    "| The Walt Disney Co.| DIS    | Positive  |\n",
    "| Netflix Inc.       | NFLX   | Positive  |\n",
    "| Adobe Inc.         | ADBE   | Positive  |\n",
    "| PayPal Holdings Inc\n",
    "\n",
    ".ased on market trends._\n"
   ]
  },
  {
   "cell_type": "code",
   "execution_count": 88,
   "id": "fb465b89-6be2-46a7-8578-c857dc2f7670",
   "metadata": {},
   "outputs": [
    {
     "name": "stdin",
     "output_type": "stream",
     "text": [
      "Enter equity id:  GOOG\n"
     ]
    },
    {
     "data": {
      "application/vnd.plotly.v1+json": {
       "config": {
        "plotlyServerURL": "https://plot.ly"
       },
       "data": [
        {
         "hovertemplate": "Time Stamp=%{x}<br>Close Price=%{y}<extra></extra>",
         "legendgroup": "",
         "line": {
          "color": "#636efa",
          "dash": "solid"
         },
         "marker": {
          "symbol": "circle"
         },
         "mode": "lines",
         "name": "",
         "orientation": "v",
         "showlegend": false,
         "type": "scatter",
         "x": [
          "2025-03-28 11:40:00",
          "2025-03-28 11:45:00",
          "2025-03-28 11:50:00",
          "2025-03-28 11:55:00",
          "2025-03-28 12:00:00",
          "2025-03-28 12:05:00",
          "2025-03-28 12:10:00",
          "2025-03-28 12:15:00",
          "2025-03-28 12:20:00",
          "2025-03-28 12:25:00",
          "2025-03-28 12:30:00",
          "2025-03-28 12:35:00",
          "2025-03-28 12:40:00",
          "2025-03-28 12:45:00",
          "2025-03-28 12:50:00",
          "2025-03-28 12:55:00",
          "2025-03-28 13:00:00",
          "2025-03-28 13:05:00",
          "2025-03-28 13:10:00",
          "2025-03-28 13:15:00",
          "2025-03-28 13:20:00",
          "2025-03-28 13:25:00",
          "2025-03-28 13:30:00",
          "2025-03-28 13:35:00",
          "2025-03-28 13:40:00",
          "2025-03-28 13:45:00",
          "2025-03-28 13:50:00",
          "2025-03-28 13:55:00",
          "2025-03-28 14:00:00",
          "2025-03-28 14:05:00",
          "2025-03-28 14:10:00",
          "2025-03-28 14:15:00",
          "2025-03-28 14:20:00",
          "2025-03-28 14:25:00",
          "2025-03-28 14:30:00",
          "2025-03-28 14:35:00",
          "2025-03-28 14:40:00",
          "2025-03-28 14:45:00",
          "2025-03-28 14:50:00",
          "2025-03-28 14:55:00",
          "2025-03-28 15:00:00",
          "2025-03-28 15:05:00",
          "2025-03-28 15:10:00",
          "2025-03-28 15:15:00",
          "2025-03-28 15:20:00",
          "2025-03-28 15:25:00",
          "2025-03-28 15:30:00",
          "2025-03-28 15:35:00",
          "2025-03-28 15:40:00",
          "2025-03-28 15:45:00",
          "2025-03-28 15:50:00",
          "2025-03-28 15:55:00",
          "2025-03-28 16:00:00",
          "2025-03-28 16:05:00",
          "2025-03-28 16:10:00",
          "2025-03-28 16:15:00",
          "2025-03-28 16:20:00",
          "2025-03-28 16:25:00",
          "2025-03-28 16:30:00",
          "2025-03-28 16:35:00",
          "2025-03-28 16:40:00",
          "2025-03-28 16:45:00",
          "2025-03-28 16:50:00",
          "2025-03-28 16:55:00",
          "2025-03-28 17:00:00",
          "2025-03-28 17:05:00",
          "2025-03-28 17:10:00",
          "2025-03-28 17:15:00",
          "2025-03-28 17:20:00",
          "2025-03-28 17:25:00",
          "2025-03-28 17:30:00",
          "2025-03-28 17:35:00",
          "2025-03-28 17:40:00",
          "2025-03-28 17:45:00",
          "2025-03-28 17:50:00",
          "2025-03-28 17:55:00",
          "2025-03-28 18:00:00",
          "2025-03-28 18:05:00",
          "2025-03-28 18:10:00",
          "2025-03-28 18:15:00",
          "2025-03-28 18:20:00",
          "2025-03-28 18:25:00",
          "2025-03-28 18:30:00",
          "2025-03-28 18:35:00",
          "2025-03-28 18:40:00",
          "2025-03-28 18:45:00",
          "2025-03-28 18:50:00",
          "2025-03-28 18:55:00",
          "2025-03-28 19:00:00",
          "2025-03-28 19:05:00",
          "2025-03-28 19:10:00",
          "2025-03-28 19:15:00",
          "2025-03-28 19:20:00",
          "2025-03-28 19:25:00",
          "2025-03-28 19:30:00",
          "2025-03-28 19:35:00",
          "2025-03-28 19:40:00",
          "2025-03-28 19:45:00",
          "2025-03-28 19:50:00",
          "2025-03-28 19:55:00"
         ],
         "xaxis": "x",
         "y": [
          158.74,
          158.74,
          158.39,
          157.7997,
          158.225,
          158.51,
          158.36,
          157.83,
          157.76,
          157.755,
          157.975,
          157.57,
          157.61,
          157.69,
          157.76,
          157.425,
          157.34,
          156.95,
          157,
          156.91,
          156.79,
          156.6,
          156.485,
          156.5799,
          156.77,
          156.87,
          156.99,
          157.26,
          157.0991,
          157.207,
          157.1,
          157.13,
          156.8376,
          156.85,
          157.03,
          156.71,
          156.555,
          156.59,
          156.53,
          156.6393,
          156.555,
          156.5,
          156.295,
          156.33,
          156.16,
          156.14,
          155.75,
          155.69,
          155.8,
          155.775,
          156.05,
          156,
          155.93,
          155.71,
          155.8,
          155.77,
          155.85,
          155.87,
          155.97,
          155.85,
          155.82,
          155.81,
          155.75,
          155.7,
          153.2438,
          155.76,
          155.7898,
          155.83,
          155.85,
          155.87,
          155.95,
          155.91,
          155.9,
          155.85,
          155.91,
          155.9487,
          155.89,
          155.95,
          155.94,
          155.95,
          155.8,
          155.9,
          156.06,
          155.87,
          155.88,
          155.9215,
          155.95,
          155.98,
          155.97,
          155.92,
          155.97,
          155.99,
          155.89,
          155.95,
          155.9,
          155.92,
          155.92,
          155.96,
          155.89,
          155.92
         ],
         "yaxis": "y"
        }
       ],
       "layout": {
        "height": 600,
        "legend": {
         "tracegroupgap": 0
        },
        "margin": {
         "t": 60
        },
        "template": {
         "data": {
          "bar": [
           {
            "error_x": {
             "color": "#2a3f5f"
            },
            "error_y": {
             "color": "#2a3f5f"
            },
            "marker": {
             "line": {
              "color": "#E5ECF6",
              "width": 0.5
             },
             "pattern": {
              "fillmode": "overlay",
              "size": 10,
              "solidity": 0.2
             }
            },
            "type": "bar"
           }
          ],
          "barpolar": [
           {
            "marker": {
             "line": {
              "color": "#E5ECF6",
              "width": 0.5
             },
             "pattern": {
              "fillmode": "overlay",
              "size": 10,
              "solidity": 0.2
             }
            },
            "type": "barpolar"
           }
          ],
          "carpet": [
           {
            "aaxis": {
             "endlinecolor": "#2a3f5f",
             "gridcolor": "white",
             "linecolor": "white",
             "minorgridcolor": "white",
             "startlinecolor": "#2a3f5f"
            },
            "baxis": {
             "endlinecolor": "#2a3f5f",
             "gridcolor": "white",
             "linecolor": "white",
             "minorgridcolor": "white",
             "startlinecolor": "#2a3f5f"
            },
            "type": "carpet"
           }
          ],
          "choropleth": [
           {
            "colorbar": {
             "outlinewidth": 0,
             "ticks": ""
            },
            "type": "choropleth"
           }
          ],
          "contour": [
           {
            "colorbar": {
             "outlinewidth": 0,
             "ticks": ""
            },
            "colorscale": [
             [
              0,
              "#0d0887"
             ],
             [
              0.1111111111111111,
              "#46039f"
             ],
             [
              0.2222222222222222,
              "#7201a8"
             ],
             [
              0.3333333333333333,
              "#9c179e"
             ],
             [
              0.4444444444444444,
              "#bd3786"
             ],
             [
              0.5555555555555556,
              "#d8576b"
             ],
             [
              0.6666666666666666,
              "#ed7953"
             ],
             [
              0.7777777777777778,
              "#fb9f3a"
             ],
             [
              0.8888888888888888,
              "#fdca26"
             ],
             [
              1,
              "#f0f921"
             ]
            ],
            "type": "contour"
           }
          ],
          "contourcarpet": [
           {
            "colorbar": {
             "outlinewidth": 0,
             "ticks": ""
            },
            "type": "contourcarpet"
           }
          ],
          "heatmap": [
           {
            "colorbar": {
             "outlinewidth": 0,
             "ticks": ""
            },
            "colorscale": [
             [
              0,
              "#0d0887"
             ],
             [
              0.1111111111111111,
              "#46039f"
             ],
             [
              0.2222222222222222,
              "#7201a8"
             ],
             [
              0.3333333333333333,
              "#9c179e"
             ],
             [
              0.4444444444444444,
              "#bd3786"
             ],
             [
              0.5555555555555556,
              "#d8576b"
             ],
             [
              0.6666666666666666,
              "#ed7953"
             ],
             [
              0.7777777777777778,
              "#fb9f3a"
             ],
             [
              0.8888888888888888,
              "#fdca26"
             ],
             [
              1,
              "#f0f921"
             ]
            ],
            "type": "heatmap"
           }
          ],
          "heatmapgl": [
           {
            "colorbar": {
             "outlinewidth": 0,
             "ticks": ""
            },
            "colorscale": [
             [
              0,
              "#0d0887"
             ],
             [
              0.1111111111111111,
              "#46039f"
             ],
             [
              0.2222222222222222,
              "#7201a8"
             ],
             [
              0.3333333333333333,
              "#9c179e"
             ],
             [
              0.4444444444444444,
              "#bd3786"
             ],
             [
              0.5555555555555556,
              "#d8576b"
             ],
             [
              0.6666666666666666,
              "#ed7953"
             ],
             [
              0.7777777777777778,
              "#fb9f3a"
             ],
             [
              0.8888888888888888,
              "#fdca26"
             ],
             [
              1,
              "#f0f921"
             ]
            ],
            "type": "heatmapgl"
           }
          ],
          "histogram": [
           {
            "marker": {
             "pattern": {
              "fillmode": "overlay",
              "size": 10,
              "solidity": 0.2
             }
            },
            "type": "histogram"
           }
          ],
          "histogram2d": [
           {
            "colorbar": {
             "outlinewidth": 0,
             "ticks": ""
            },
            "colorscale": [
             [
              0,
              "#0d0887"
             ],
             [
              0.1111111111111111,
              "#46039f"
             ],
             [
              0.2222222222222222,
              "#7201a8"
             ],
             [
              0.3333333333333333,
              "#9c179e"
             ],
             [
              0.4444444444444444,
              "#bd3786"
             ],
             [
              0.5555555555555556,
              "#d8576b"
             ],
             [
              0.6666666666666666,
              "#ed7953"
             ],
             [
              0.7777777777777778,
              "#fb9f3a"
             ],
             [
              0.8888888888888888,
              "#fdca26"
             ],
             [
              1,
              "#f0f921"
             ]
            ],
            "type": "histogram2d"
           }
          ],
          "histogram2dcontour": [
           {
            "colorbar": {
             "outlinewidth": 0,
             "ticks": ""
            },
            "colorscale": [
             [
              0,
              "#0d0887"
             ],
             [
              0.1111111111111111,
              "#46039f"
             ],
             [
              0.2222222222222222,
              "#7201a8"
             ],
             [
              0.3333333333333333,
              "#9c179e"
             ],
             [
              0.4444444444444444,
              "#bd3786"
             ],
             [
              0.5555555555555556,
              "#d8576b"
             ],
             [
              0.6666666666666666,
              "#ed7953"
             ],
             [
              0.7777777777777778,
              "#fb9f3a"
             ],
             [
              0.8888888888888888,
              "#fdca26"
             ],
             [
              1,
              "#f0f921"
             ]
            ],
            "type": "histogram2dcontour"
           }
          ],
          "mesh3d": [
           {
            "colorbar": {
             "outlinewidth": 0,
             "ticks": ""
            },
            "type": "mesh3d"
           }
          ],
          "parcoords": [
           {
            "line": {
             "colorbar": {
              "outlinewidth": 0,
              "ticks": ""
             }
            },
            "type": "parcoords"
           }
          ],
          "pie": [
           {
            "automargin": true,
            "type": "pie"
           }
          ],
          "scatter": [
           {
            "fillpattern": {
             "fillmode": "overlay",
             "size": 10,
             "solidity": 0.2
            },
            "type": "scatter"
           }
          ],
          "scatter3d": [
           {
            "line": {
             "colorbar": {
              "outlinewidth": 0,
              "ticks": ""
             }
            },
            "marker": {
             "colorbar": {
              "outlinewidth": 0,
              "ticks": ""
             }
            },
            "type": "scatter3d"
           }
          ],
          "scattercarpet": [
           {
            "marker": {
             "colorbar": {
              "outlinewidth": 0,
              "ticks": ""
             }
            },
            "type": "scattercarpet"
           }
          ],
          "scattergeo": [
           {
            "marker": {
             "colorbar": {
              "outlinewidth": 0,
              "ticks": ""
             }
            },
            "type": "scattergeo"
           }
          ],
          "scattergl": [
           {
            "marker": {
             "colorbar": {
              "outlinewidth": 0,
              "ticks": ""
             }
            },
            "type": "scattergl"
           }
          ],
          "scattermapbox": [
           {
            "marker": {
             "colorbar": {
              "outlinewidth": 0,
              "ticks": ""
             }
            },
            "type": "scattermapbox"
           }
          ],
          "scatterpolar": [
           {
            "marker": {
             "colorbar": {
              "outlinewidth": 0,
              "ticks": ""
             }
            },
            "type": "scatterpolar"
           }
          ],
          "scatterpolargl": [
           {
            "marker": {
             "colorbar": {
              "outlinewidth": 0,
              "ticks": ""
             }
            },
            "type": "scatterpolargl"
           }
          ],
          "scatterternary": [
           {
            "marker": {
             "colorbar": {
              "outlinewidth": 0,
              "ticks": ""
             }
            },
            "type": "scatterternary"
           }
          ],
          "surface": [
           {
            "colorbar": {
             "outlinewidth": 0,
             "ticks": ""
            },
            "colorscale": [
             [
              0,
              "#0d0887"
             ],
             [
              0.1111111111111111,
              "#46039f"
             ],
             [
              0.2222222222222222,
              "#7201a8"
             ],
             [
              0.3333333333333333,
              "#9c179e"
             ],
             [
              0.4444444444444444,
              "#bd3786"
             ],
             [
              0.5555555555555556,
              "#d8576b"
             ],
             [
              0.6666666666666666,
              "#ed7953"
             ],
             [
              0.7777777777777778,
              "#fb9f3a"
             ],
             [
              0.8888888888888888,
              "#fdca26"
             ],
             [
              1,
              "#f0f921"
             ]
            ],
            "type": "surface"
           }
          ],
          "table": [
           {
            "cells": {
             "fill": {
              "color": "#EBF0F8"
             },
             "line": {
              "color": "white"
             }
            },
            "header": {
             "fill": {
              "color": "#C8D4E3"
             },
             "line": {
              "color": "white"
             }
            },
            "type": "table"
           }
          ]
         },
         "layout": {
          "annotationdefaults": {
           "arrowcolor": "#2a3f5f",
           "arrowhead": 0,
           "arrowwidth": 1
          },
          "autotypenumbers": "strict",
          "coloraxis": {
           "colorbar": {
            "outlinewidth": 0,
            "ticks": ""
           }
          },
          "colorscale": {
           "diverging": [
            [
             0,
             "#8e0152"
            ],
            [
             0.1,
             "#c51b7d"
            ],
            [
             0.2,
             "#de77ae"
            ],
            [
             0.3,
             "#f1b6da"
            ],
            [
             0.4,
             "#fde0ef"
            ],
            [
             0.5,
             "#f7f7f7"
            ],
            [
             0.6,
             "#e6f5d0"
            ],
            [
             0.7,
             "#b8e186"
            ],
            [
             0.8,
             "#7fbc41"
            ],
            [
             0.9,
             "#4d9221"
            ],
            [
             1,
             "#276419"
            ]
           ],
           "sequential": [
            [
             0,
             "#0d0887"
            ],
            [
             0.1111111111111111,
             "#46039f"
            ],
            [
             0.2222222222222222,
             "#7201a8"
            ],
            [
             0.3333333333333333,
             "#9c179e"
            ],
            [
             0.4444444444444444,
             "#bd3786"
            ],
            [
             0.5555555555555556,
             "#d8576b"
            ],
            [
             0.6666666666666666,
             "#ed7953"
            ],
            [
             0.7777777777777778,
             "#fb9f3a"
            ],
            [
             0.8888888888888888,
             "#fdca26"
            ],
            [
             1,
             "#f0f921"
            ]
           ],
           "sequentialminus": [
            [
             0,
             "#0d0887"
            ],
            [
             0.1111111111111111,
             "#46039f"
            ],
            [
             0.2222222222222222,
             "#7201a8"
            ],
            [
             0.3333333333333333,
             "#9c179e"
            ],
            [
             0.4444444444444444,
             "#bd3786"
            ],
            [
             0.5555555555555556,
             "#d8576b"
            ],
            [
             0.6666666666666666,
             "#ed7953"
            ],
            [
             0.7777777777777778,
             "#fb9f3a"
            ],
            [
             0.8888888888888888,
             "#fdca26"
            ],
            [
             1,
             "#f0f921"
            ]
           ]
          },
          "colorway": [
           "#636efa",
           "#EF553B",
           "#00cc96",
           "#ab63fa",
           "#FFA15A",
           "#19d3f3",
           "#FF6692",
           "#B6E880",
           "#FF97FF",
           "#FECB52"
          ],
          "font": {
           "color": "#2a3f5f"
          },
          "geo": {
           "bgcolor": "white",
           "lakecolor": "white",
           "landcolor": "#E5ECF6",
           "showlakes": true,
           "showland": true,
           "subunitcolor": "white"
          },
          "hoverlabel": {
           "align": "left"
          },
          "hovermode": "closest",
          "mapbox": {
           "style": "light"
          },
          "paper_bgcolor": "white",
          "plot_bgcolor": "#E5ECF6",
          "polar": {
           "angularaxis": {
            "gridcolor": "white",
            "linecolor": "white",
            "ticks": ""
           },
           "bgcolor": "#E5ECF6",
           "radialaxis": {
            "gridcolor": "white",
            "linecolor": "white",
            "ticks": ""
           }
          },
          "scene": {
           "xaxis": {
            "backgroundcolor": "#E5ECF6",
            "gridcolor": "white",
            "gridwidth": 2,
            "linecolor": "white",
            "showbackground": true,
            "ticks": "",
            "zerolinecolor": "white"
           },
           "yaxis": {
            "backgroundcolor": "#E5ECF6",
            "gridcolor": "white",
            "gridwidth": 2,
            "linecolor": "white",
            "showbackground": true,
            "ticks": "",
            "zerolinecolor": "white"
           },
           "zaxis": {
            "backgroundcolor": "#E5ECF6",
            "gridcolor": "white",
            "gridwidth": 2,
            "linecolor": "white",
            "showbackground": true,
            "ticks": "",
            "zerolinecolor": "white"
           }
          },
          "shapedefaults": {
           "line": {
            "color": "#2a3f5f"
           }
          },
          "ternary": {
           "aaxis": {
            "gridcolor": "white",
            "linecolor": "white",
            "ticks": ""
           },
           "baxis": {
            "gridcolor": "white",
            "linecolor": "white",
            "ticks": ""
           },
           "bgcolor": "#E5ECF6",
           "caxis": {
            "gridcolor": "white",
            "linecolor": "white",
            "ticks": ""
           }
          },
          "title": {
           "x": 0.05
          },
          "xaxis": {
           "automargin": true,
           "gridcolor": "white",
           "linecolor": "white",
           "ticks": "",
           "title": {
            "standoff": 15
           },
           "zerolinecolor": "white",
           "zerolinewidth": 2
          },
          "yaxis": {
           "automargin": true,
           "gridcolor": "white",
           "linecolor": "white",
           "ticks": "",
           "title": {
            "standoff": 15
           },
           "zerolinecolor": "white",
           "zerolinewidth": 2
          }
         }
        },
        "title": {
         "text": "Stock Prices Over Time"
        },
        "width": 1000,
        "xaxis": {
         "anchor": "y",
         "autorange": true,
         "domain": [
          0,
          1
         ],
         "range": [
          "2025-03-28 11:40",
          "2025-03-28 19:55"
         ],
         "title": {
          "text": "Time Stamp"
         },
         "type": "date"
        },
        "yaxis": {
         "anchor": "x",
         "domain": [
          0,
          1
         ],
         "range": [
          153.2438,
          158.74
         ],
         "tickmode": "array",
         "ticktext": [
          "152",
          "154",
          "156",
          "158"
         ],
         "tickvals": [
          152,
          154,
          156,
          158
         ],
         "title": {
          "text": "Close Price"
         },
         "type": "linear"
        }
       }
      },
      "image/png": "[encoded data removed]",
      "text/html": [
       "<div>                            <div id=\"0f01200a-9edb-4811-aa85-715a78d8e56b\" class=\"plotly-graph-div\" style=\"height:600px; width:1000px;\"></div>            <script type=\"text/javascript\">                require([\"plotly\"], function(Plotly) {                    window.PLOTLYENV=window.PLOTLYENV || {};                                    if (document.getElementById(\"0f01200a-9edb-4811-aa85-715a78d8e56b\")) {                    Plotly.newPlot(                        \"0f01200a-9edb-4811-aa85-715a78d8e56b\",                        [{\"hovertemplate\":\"Time Stamp=%{x}<br>Close Price=%{y}<extra></extra>\",\"legendgroup\":\"\",\"line\":{\"color\":\"#636efa\",\"dash\":\"solid\"},\"marker\":{\"symbol\":\"circle\"},\"mode\":\"lines\",\"name\":\"\",\"orientation\":\"v\",\"showlegend\":false,\"x\":[\"2025-03-28 11:40:00\",\"2025-03-28 11:45:00\",\"2025-03-28 11:50:00\",\"2025-03-28 11:55:00\",\"2025-03-28 12:00:00\",\"2025-03-28 12:05:00\",\"2025-03-28 12:10:00\",\"2025-03-28 12:15:00\",\"2025-03-28 12:20:00\",\"2025-03-28 12:25:00\",\"2025-03-28 12:30:00\",\"2025-03-28 12:35:00\",\"2025-03-28 12:40:00\",\"2025-03-28 12:45:00\",\"2025-03-28 12:50:00\",\"2025-03-28 12:55:00\",\"2025-03-28 13:00:00\",\"2025-03-28 13:05:00\",\"2025-03-28 13:10:00\",\"2025-03-28 13:15:00\",\"2025-03-28 13:20:00\",\"2025-03-28 13:25:00\",\"2025-03-28 13:30:00\",\"2025-03-28 13:35:00\",\"2025-03-28 13:40:00\",\"2025-03-28 13:45:00\",\"2025-03-28 13:50:00\",\"2025-03-28 13:55:00\",\"2025-03-28 14:00:00\",\"2025-03-28 14:05:00\",\"2025-03-28 14:10:00\",\"2025-03-28 14:15:00\",\"2025-03-28 14:20:00\",\"2025-03-28 14:25:00\",\"2025-03-28 14:30:00\",\"2025-03-28 14:35:00\",\"2025-03-28 14:40:00\",\"2025-03-28 14:45:00\",\"2025-03-28 14:50:00\",\"2025-03-28 14:55:00\",\"2025-03-28 15:00:00\",\"2025-03-28 15:05:00\",\"2025-03-28 15:10:00\",\"2025-03-28 15:15:00\",\"2025-03-28 15:20:00\",\"2025-03-28 15:25:00\",\"2025-03-28 15:30:00\",\"2025-03-28 15:35:00\",\"2025-03-28 15:40:00\",\"2025-03-28 15:45:00\",\"2025-03-28 15:50:00\",\"2025-03-28 15:55:00\",\"2025-03-28 16:00:00\",\"2025-03-28 16:05:00\",\"2025-03-28 16:10:00\",\"2025-03-28 16:15:00\",\"2025-03-28 16:20:00\",\"2025-03-28 16:25:00\",\"2025-03-28 16:30:00\",\"2025-03-28 16:35:00\",\"2025-03-28 16:40:00\",\"2025-03-28 16:45:00\",\"2025-03-28 16:50:00\",\"2025-03-28 16:55:00\",\"2025-03-28 17:00:00\",\"2025-03-28 17:05:00\",\"2025-03-28 17:10:00\",\"2025-03-28 17:15:00\",\"2025-03-28 17:20:00\",\"2025-03-28 17:25:00\",\"2025-03-28 17:30:00\",\"2025-03-28 17:35:00\",\"2025-03-28 17:40:00\",\"2025-03-28 17:45:00\",\"2025-03-28 17:50:00\",\"2025-03-28 17:55:00\",\"2025-03-28 18:00:00\",\"2025-03-28 18:05:00\",\"2025-03-28 18:10:00\",\"2025-03-28 18:15:00\",\"2025-03-28 18:20:00\",\"2025-03-28 18:25:00\",\"2025-03-28 18:30:00\",\"2025-03-28 18:35:00\",\"2025-03-28 18:40:00\",\"2025-03-28 18:45:00\",\"2025-03-28 18:50:00\",\"2025-03-28 18:55:00\",\"2025-03-28 19:00:00\",\"2025-03-28 19:05:00\",\"2025-03-28 19:10:00\",\"2025-03-28 19:15:00\",\"2025-03-28 19:20:00\",\"2025-03-28 19:25:00\",\"2025-03-28 19:30:00\",\"2025-03-28 19:35:00\",\"2025-03-28 19:40:00\",\"2025-03-28 19:45:00\",\"2025-03-28 19:50:00\",\"2025-03-28 19:55:00\"],\"xaxis\":\"x\",\"y\":[158.74,158.74,158.39,157.7997,158.225,158.51,158.36,157.83,157.76,157.755,157.975,157.57,157.61,157.69,157.76,157.425,157.34,156.95,157.0,156.91,156.79,156.6,156.485,156.5799,156.77,156.87,156.99,157.26,157.0991,157.207,157.1,157.13,156.8376,156.85,157.03,156.71,156.555,156.59,156.53,156.6393,156.555,156.5,156.295,156.33,156.16,156.14,155.75,155.69,155.8,155.775,156.05,156.0,155.93,155.71,155.8,155.77,155.85,155.87,155.97,155.85,155.82,155.81,155.75,155.7,153.2438,155.76,155.7898,155.83,155.85,155.87,155.95,155.91,155.9,155.85,155.91,155.9487,155.89,155.95,155.94,155.95,155.8,155.9,156.06,155.87,155.88,155.9215,155.95,155.98,155.97,155.92,155.97,155.99,155.89,155.95,155.9,155.92,155.92,155.96,155.89,155.92],\"yaxis\":\"y\",\"type\":\"scatter\"}],                        {\"template\":{\"data\":{\"histogram2dcontour\":[{\"type\":\"histogram2dcontour\",\"colorbar\":{\"outlinewidth\":0,\"ticks\":\"\"},\"colorscale\":[[0.0,\"#0d0887\"],[0.1111111111111111,\"#46039f\"],[0.2222222222222222,\"#7201a8\"],[0.3333333333333333,\"#9c179e\"],[0.4444444444444444,\"#bd3786\"],[0.5555555555555556,\"#d8576b\"],[0.6666666666666666,\"#ed7953\"],[0.7777777777777778,\"#fb9f3a\"],[0.8888888888888888,\"#fdca26\"],[1.0,\"#f0f921\"]]}],\"choropleth\":[{\"type\":\"choropleth\",\"colorbar\":{\"outlinewidth\":0,\"ticks\":\"\"}}],\"histogram2d\":[{\"type\":\"histogram2d\",\"colorbar\":{\"outlinewidth\":0,\"ticks\":\"\"},\"colorscale\":[[0.0,\"#0d0887\"],[0.1111111111111111,\"#46039f\"],[0.2222222222222222,\"#7201a8\"],[0.3333333333333333,\"#9c179e\"],[0.4444444444444444,\"#bd3786\"],[0.5555555555555556,\"#d8576b\"],[0.6666666666666666,\"#ed7953\"],[0.7777777777777778,\"#fb9f3a\"],[0.8888888888888888,\"#fdca26\"],[1.0,\"#f0f921\"]]}],\"heatmap\":[{\"type\":\"heatmap\",\"colorbar\":{\"outlinewidth\":0,\"ticks\":\"\"},\"colorscale\":[[0.0,\"#0d0887\"],[0.1111111111111111,\"#46039f\"],[0.2222222222222222,\"#7201a8\"],[0.3333333333333333,\"#9c179e\"],[0.4444444444444444,\"#bd3786\"],[0.5555555555555556,\"#d8576b\"],[0.6666666666666666,\"#ed7953\"],[0.7777777777777778,\"#fb9f3a\"],[0.8888888888888888,\"#fdca26\"],[1.0,\"#f0f921\"]]}],\"heatmapgl\":[{\"type\":\"heatmapgl\",\"colorbar\":{\"outlinewidth\":0,\"ticks\":\"\"},\"colorscale\":[[0.0,\"#0d0887\"],[0.1111111111111111,\"#46039f\"],[0.2222222222222222,\"#7201a8\"],[0.3333333333333333,\"#9c179e\"],[0.4444444444444444,\"#bd3786\"],[0.5555555555555556,\"#d8576b\"],[0.6666666666666666,\"#ed7953\"],[0.7777777777777778,\"#fb9f3a\"],[0.8888888888888888,\"#fdca26\"],[1.0,\"#f0f921\"]]}],\"contourcarpet\":[{\"type\":\"contourcarpet\",\"colorbar\":{\"outlinewidth\":0,\"ticks\":\"\"}}],\"contour\":[{\"type\":\"contour\",\"colorbar\":{\"outlinewidth\":0,\"ticks\":\"\"},\"colorscale\":[[0.0,\"#0d0887\"],[0.1111111111111111,\"#46039f\"],[0.2222222222222222,\"#7201a8\"],[0.3333333333333333,\"#9c179e\"],[0.4444444444444444,\"#bd3786\"],[0.5555555555555556,\"#d8576b\"],[0.6666666666666666,\"#ed7953\"],[0.7777777777777778,\"#fb9f3a\"],[0.8888888888888888,\"#fdca26\"],[1.0,\"#f0f921\"]]}],\"surface\":[{\"type\":\"surface\",\"colorbar\":{\"outlinewidth\":0,\"ticks\":\"\"},\"colorscale\":[[0.0,\"#0d0887\"],[0.1111111111111111,\"#46039f\"],[0.2222222222222222,\"#7201a8\"],[0.3333333333333333,\"#9c179e\"],[0.4444444444444444,\"#bd3786\"],[0.5555555555555556,\"#d8576b\"],[0.6666666666666666,\"#ed7953\"],[0.7777777777777778,\"#fb9f3a\"],[0.8888888888888888,\"#fdca26\"],[1.0,\"#f0f921\"]]}],\"mesh3d\":[{\"type\":\"mesh3d\",\"colorbar\":{\"outlinewidth\":0,\"ticks\":\"\"}}],\"scatter\":[{\"fillpattern\":{\"fillmode\":\"overlay\",\"size\":10,\"solidity\":0.2},\"type\":\"scatter\"}],\"parcoords\":[{\"type\":\"parcoords\",\"line\":{\"colorbar\":{\"outlinewidth\":0,\"ticks\":\"\"}}}],\"scatterpolargl\":[{\"type\":\"scatterpolargl\",\"marker\":{\"colorbar\":{\"outlinewidth\":0,\"ticks\":\"\"}}}],\"bar\":[{\"error_x\":{\"color\":\"#2a3f5f\"},\"error_y\":{\"color\":\"#2a3f5f\"},\"marker\":{\"line\":{\"color\":\"#E5ECF6\",\"width\":0.5},\"pattern\":{\"fillmode\":\"overlay\",\"size\":10,\"solidity\":0.2}},\"type\":\"bar\"}],\"scattergeo\":[{\"type\":\"scattergeo\",\"marker\":{\"colorbar\":{\"outlinewidth\":0,\"ticks\":\"\"}}}],\"scatterpolar\":[{\"type\":\"scatterpolar\",\"marker\":{\"colorbar\":{\"outlinewidth\":0,\"ticks\":\"\"}}}],\"histogram\":[{\"marker\":{\"pattern\":{\"fillmode\":\"overlay\",\"size\":10,\"solidity\":0.2}},\"type\":\"histogram\"}],\"scattergl\":[{\"type\":\"scattergl\",\"marker\":{\"colorbar\":{\"outlinewidth\":0,\"ticks\":\"\"}}}],\"scatter3d\":[{\"type\":\"scatter3d\",\"line\":{\"colorbar\":{\"outlinewidth\":0,\"ticks\":\"\"}},\"marker\":{\"colorbar\":{\"outlinewidth\":0,\"ticks\":\"\"}}}],\"scattermapbox\":[{\"type\":\"scattermapbox\",\"marker\":{\"colorbar\":{\"outlinewidth\":0,\"ticks\":\"\"}}}],\"scatterternary\":[{\"type\":\"scatterternary\",\"marker\":{\"colorbar\":{\"outlinewidth\":0,\"ticks\":\"\"}}}],\"scattercarpet\":[{\"type\":\"scattercarpet\",\"marker\":{\"colorbar\":{\"outlinewidth\":0,\"ticks\":\"\"}}}],\"carpet\":[{\"aaxis\":{\"endlinecolor\":\"#2a3f5f\",\"gridcolor\":\"white\",\"linecolor\":\"white\",\"minorgridcolor\":\"white\",\"startlinecolor\":\"#2a3f5f\"},\"baxis\":{\"endlinecolor\":\"#2a3f5f\",\"gridcolor\":\"white\",\"linecolor\":\"white\",\"minorgridcolor\":\"white\",\"startlinecolor\":\"#2a3f5f\"},\"type\":\"carpet\"}],\"table\":[{\"cells\":{\"fill\":{\"color\":\"#EBF0F8\"},\"line\":{\"color\":\"white\"}},\"header\":{\"fill\":{\"color\":\"#C8D4E3\"},\"line\":{\"color\":\"white\"}},\"type\":\"table\"}],\"barpolar\":[{\"marker\":{\"line\":{\"color\":\"#E5ECF6\",\"width\":0.5},\"pattern\":{\"fillmode\":\"overlay\",\"size\":10,\"solidity\":0.2}},\"type\":\"barpolar\"}],\"pie\":[{\"automargin\":true,\"type\":\"pie\"}]},\"layout\":{\"autotypenumbers\":\"strict\",\"colorway\":[\"#636efa\",\"#EF553B\",\"#00cc96\",\"#ab63fa\",\"#FFA15A\",\"#19d3f3\",\"#FF6692\",\"#B6E880\",\"#FF97FF\",\"#FECB52\"],\"font\":{\"color\":\"#2a3f5f\"},\"hovermode\":\"closest\",\"hoverlabel\":{\"align\":\"left\"},\"paper_bgcolor\":\"white\",\"plot_bgcolor\":\"#E5ECF6\",\"polar\":{\"bgcolor\":\"#E5ECF6\",\"angularaxis\":{\"gridcolor\":\"white\",\"linecolor\":\"white\",\"ticks\":\"\"},\"radialaxis\":{\"gridcolor\":\"white\",\"linecolor\":\"white\",\"ticks\":\"\"}},\"ternary\":{\"bgcolor\":\"#E5ECF6\",\"aaxis\":{\"gridcolor\":\"white\",\"linecolor\":\"white\",\"ticks\":\"\"},\"baxis\":{\"gridcolor\":\"white\",\"linecolor\":\"white\",\"ticks\":\"\"},\"caxis\":{\"gridcolor\":\"white\",\"linecolor\":\"white\",\"ticks\":\"\"}},\"coloraxis\":{\"colorbar\":{\"outlinewidth\":0,\"ticks\":\"\"}},\"colorscale\":{\"sequential\":[[0.0,\"#0d0887\"],[0.1111111111111111,\"#46039f\"],[0.2222222222222222,\"#7201a8\"],[0.3333333333333333,\"#9c179e\"],[0.4444444444444444,\"#bd3786\"],[0.5555555555555556,\"#d8576b\"],[0.6666666666666666,\"#ed7953\"],[0.7777777777777778,\"#fb9f3a\"],[0.8888888888888888,\"#fdca26\"],[1.0,\"#f0f921\"]],\"sequentialminus\":[[0.0,\"#0d0887\"],[0.1111111111111111,\"#46039f\"],[0.2222222222222222,\"#7201a8\"],[0.3333333333333333,\"#9c179e\"],[0.4444444444444444,\"#bd3786\"],[0.5555555555555556,\"#d8576b\"],[0.6666666666666666,\"#ed7953\"],[0.7777777777777778,\"#fb9f3a\"],[0.8888888888888888,\"#fdca26\"],[1.0,\"#f0f921\"]],\"diverging\":[[0,\"#8e0152\"],[0.1,\"#c51b7d\"],[0.2,\"#de77ae\"],[0.3,\"#f1b6da\"],[0.4,\"#fde0ef\"],[0.5,\"#f7f7f7\"],[0.6,\"#e6f5d0\"],[0.7,\"#b8e186\"],[0.8,\"#7fbc41\"],[0.9,\"#4d9221\"],[1,\"#276419\"]]},\"xaxis\":{\"gridcolor\":\"white\",\"linecolor\":\"white\",\"ticks\":\"\",\"title\":{\"standoff\":15},\"zerolinecolor\":\"white\",\"automargin\":true,\"zerolinewidth\":2},\"yaxis\":{\"gridcolor\":\"white\",\"linecolor\":\"white\",\"ticks\":\"\",\"title\":{\"standoff\":15},\"zerolinecolor\":\"white\",\"automargin\":true,\"zerolinewidth\":2},\"scene\":{\"xaxis\":{\"backgroundcolor\":\"#E5ECF6\",\"gridcolor\":\"white\",\"linecolor\":\"white\",\"showbackground\":true,\"ticks\":\"\",\"zerolinecolor\":\"white\",\"gridwidth\":2},\"yaxis\":{\"backgroundcolor\":\"#E5ECF6\",\"gridcolor\":\"white\",\"linecolor\":\"white\",\"showbackground\":true,\"ticks\":\"\",\"zerolinecolor\":\"white\",\"gridwidth\":2},\"zaxis\":{\"backgroundcolor\":\"#E5ECF6\",\"gridcolor\":\"white\",\"linecolor\":\"white\",\"showbackground\":true,\"ticks\":\"\",\"zerolinecolor\":\"white\",\"gridwidth\":2}},\"shapedefaults\":{\"line\":{\"color\":\"#2a3f5f\"}},\"annotationdefaults\":{\"arrowcolor\":\"#2a3f5f\",\"arrowhead\":0,\"arrowwidth\":1},\"geo\":{\"bgcolor\":\"white\",\"landcolor\":\"#E5ECF6\",\"subunitcolor\":\"white\",\"showland\":true,\"showlakes\":true,\"lakecolor\":\"white\"},\"title\":{\"x\":0.05},\"mapbox\":{\"style\":\"light\"}}},\"xaxis\":{\"anchor\":\"y\",\"domain\":[0.0,1.0],\"title\":{\"text\":\"Time Stamp\"}},\"yaxis\":{\"anchor\":\"x\",\"domain\":[0.0,1.0],\"title\":{\"text\":\"Close Price\"},\"tickmode\":\"array\",\"tickvals\":[152,154,156,158],\"ticktext\":[\"152\",\"154\",\"156\",\"158\"],\"range\":[153.2438,158.74]},\"legend\":{\"tracegroupgap\":0},\"margin\":{\"t\":60},\"height\":600,\"width\":1000,\"title\":{\"text\":\"Stock Prices Over Time\"}},                        {\"responsive\": true}                    ).then(function(){\n",
       "                            \n",
       "var gd = document.getElementById('0f01200a-9edb-4811-aa85-715a78d8e56b');\n",
       "var x = new MutationObserver(function (mutations, observer) {{\n",
       "        var display = window.getComputedStyle(gd).display;\n",
       "        if (!display || display === 'none') {{\n",
       "            console.log([gd, 'removed!']);\n",
       "            Plotly.purge(gd);\n",
       "            observer.disconnect();\n",
       "        }}\n",
       "}});\n",
       "\n",
       "// Listen for the removal of the full notebook cells\n",
       "var notebookContainer = gd.closest('#notebook-container');\n",
       "if (notebookContainer) {{\n",
       "    x.observe(notebookContainer, {childList: true});\n",
       "}}\n",
       "\n",
       "// Listen for the clearing of the current output cell\n",
       "var outputEl = gd.closest('.output');\n",
       "if (outputEl) {{\n",
       "    x.observe(outputEl, {childList: true});\n",
       "}}\n",
       "\n",
       "                        })                };                });            </script>        </div>"
      ]
     },
     "metadata": {},
     "output_type": "display_data"
    },
    {
     "name": "stdout",
     "output_type": "stream",
     "text": [
      "p value = 0.29180118796868315\n",
      " d = 1\n",
      "p = 4, q = 4\n",
      "                               SARIMAX Results                                \n",
      "==============================================================================\n",
      "Dep. Variable:            Close Price   No. Observations:                   70\n",
      "Model:                 ARIMA(4, 1, 4)   Log Likelihood                 -36.508\n",
      "Date:                Sun, 30 Mar 2025   AIC                             91.017\n",
      "Time:                        23:55:07   BIC                            111.124\n",
      "Sample:                             0   HQIC                            98.994\n",
      "                                 - 70                                         \n",
      "Covariance Type:                  opg                                         \n",
      "==============================================================================\n",
      "                 coef    std err          z      P>|z|      [0.025      0.975]\n",
      "------------------------------------------------------------------------------\n",
      "ar.L1         -1.3739      0.431     -3.187      0.001      -2.219      -0.529\n",
      "ar.L2         -0.1154      0.504     -0.229      0.819      -1.103       0.872\n",
      "ar.L3          0.6783      0.457      1.483      0.138      -0.218       1.575\n",
      "ar.L4          0.2560      0.280      0.914      0.361      -0.293       0.805\n",
      "ma.L1         -0.1881      1.953     -0.096      0.923      -4.016       3.640\n",
      "ma.L2         -1.5977      1.698     -0.941      0.347      -4.926       1.730\n",
      "ma.L3         -0.1745      2.075     -0.084      0.933      -4.242       3.893\n",
      "ma.L4          0.9823      2.076      0.473      0.636      -3.086       5.050\n",
      "sigma2         0.1436      0.267      0.538      0.590      -0.379       0.666\n",
      "===================================================================================\n",
      "Ljung-Box (L1) (Q):                   0.20   Jarque-Bera (JB):              1304.59\n",
      "Prob(Q):                              0.65   Prob(JB):                         0.00\n",
      "Heteroskedasticity (H):               6.94   Skew:                            -3.12\n",
      "Prob(H) (two-sided):                  0.00   Kurtosis:                        23.37\n",
      "===================================================================================\n",
      "\n",
      "Warnings:\n",
      "[1] Covariance matrix calculated using the outer product of gradients (complex-step).\n"
     ]
    },
    {
     "data": {
      "image/png": "[encoded data removed]",
      "text/plain": [
       "<Figure size 640x480 with 1 Axes>"
      ]
     },
     "metadata": {},
     "output_type": "display_data"
    }
   ],
   "source": [
    "main()"
   ]
  },
  {
   "cell_type": "code",
   "execution_count": null,
   "id": "ac391b10-f571-4b7f-952a-f5a4879f3d75",
   "metadata": {},
   "outputs": [],
   "source": []
  }
 ],
 "metadata": {
  "kernelspec": {
   "display_name": "Python 3 (ipykernel)",
   "language": "python",
   "name": "python3"
  },
  "language_info": {
   "codemirror_mode": {
    "name": "ipython",
    "version": 3
   },
   "file_extension": ".py",
   "mimetype": "text/x-python",
   "name": "python",
   "nbconvert_exporter": "python",
   "pygments_lexer": "ipython3",
   "version": "3.11.7"
  }
 },
 "nbformat": 4,
 "nbformat_minor": 5
}
