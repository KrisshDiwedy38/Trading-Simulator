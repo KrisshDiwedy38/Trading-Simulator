{
 "cells": [
  {
   "cell_type": "code",
   "execution_count": 4,
   "id": "405da2f6-4716-4e16-9fbc-5be42899a7ad",
   "metadata": {},
   "outputs": [],
   "source": [
    "import requests\n",
    "import pandas as pd\n",
    "import numpy as np\n",
    "import matplotlib as plt\n",
    "api_key = \"WFHZHJATQIO0HDH7\""
   ]
  },
  {
   "cell_type": "code",
   "execution_count": 5,
   "id": "6d8c7e2b-f0a8-48e1-b200-86c79637adfe",
   "metadata": {},
   "outputs": [],
   "source": [
    "def get_stocks(equity):\n",
    "    base_url = \"https://www.alphavantage.co/query?\"\n",
    "    url = base_url + 'function=TIME_SERIES_INTRADAY' + '&symbol=' + equity + '&interval=60min&apikey=' + api_key\n",
    "    response = requests.get(url)\n",
    "    if response.status_code == 200:\n",
    "        df = pd.DataFrame(response.json())\n",
    "        return df\n",
    "    else:\n",
    "        print(\"Could not fetch data\")\n",
    "        return"
   ]
  },
  {
   "cell_type": "code",
   "execution_count": 6,
   "id": "1619e6e9-e2e5-4ed2-a0de-7d1fe42e388b",
   "metadata": {},
   "outputs": [],
   "source": [
    "def column_summary(df):\n",
    "    summary = []\n",
    "\n",
    "    for col_name in df.columns:\n",
    "        col_dtype = df[col_name].dtype\n",
    "        num_of_nulls = df[col_name].isnull().sum()\n",
    "        num_of_non_nulls = df[col_name].notnull().sum()\n",
    "\n",
    "        summary.append( {\n",
    "            'col_name' : col_name,\n",
    "            'num_of_nulls' : num_of_nulls,\n",
    "            'num_of_non_nulls' : num_of_non_nulls,\n",
    "        })\n",
    "\n",
    "    summary_df = pd.DataFrame(summary)\n",
    "    return summary_df"
   ]
  },
  {
   "cell_type": "code",
   "execution_count": 7,
   "id": "ed53ad4a-b601-4641-b73f-fe7662e56099",
   "metadata": {},
   "outputs": [],
   "source": [
    "def get_time_series_data(df):\n",
    "    time_data = []\n",
    "    for i, col_name in enumerate(df.columns):\n",
    "        if i > 6 :\n",
    "            time_data.append(df[col_name])\n",
    "        else:\n",
    "            pass\n",
    "    time_series_data = pd.DataFrame(time_data)\n",
    "    return time_series_data"
   ]
  },
  {
   "cell_type": "code",
   "execution_count": 8,
   "id": "d3315fea-7a6c-4541-bf29-9cfa091e060c",
   "metadata": {},
   "outputs": [],
   "source": [
    "def main():\n",
    "    equity = input(\"Enter the equity of choice: \").strip()\n",
    "    raw_stocks = get_stocks(equity)\n",
    "    time_series_data = get_time_series_data(raw_stocks)\n",
    "    summary = column_summary(raw_stocks)\n",
    "    print(raw_stocks)\n",
    "    display(summary)\n",
    "    print(time_series_data)"
   ]
  },
  {
   "cell_type": "code",
   "execution_count": 9,
   "id": "c58a7fe9-9baa-43d9-a226-1cf23bab7de4",
   "metadata": {},
   "outputs": [
    {
     "name": "stdin",
     "output_type": "stream",
     "text": [
      "Enter the equity of choice:  IBM \n"
     ]
    },
    {
     "name": "stdout",
     "output_type": "stream",
     "text": [
      "                                                             Meta Data  \\\n",
      "1. Information       Intraday (60min) open, high, low, close prices...   \n",
      "2. Symbol                                                          IBM   \n",
      "3. Last Refreshed                                  2025-02-21 19:00:00   \n",
      "4. Interval                                                      60min   \n",
      "5. Output Size                                                 Compact   \n",
      "...                                                                ...   \n",
      "2025-02-13 04:00:00                                                NaN   \n",
      "2025-02-12 19:00:00                                                NaN   \n",
      "2025-02-12 18:00:00                                                NaN   \n",
      "2025-02-12 17:00:00                                                NaN   \n",
      "2025-02-12 16:00:00                                                NaN   \n",
      "\n",
      "                                                   Time Series (60min)  \n",
      "1. Information                                                     NaN  \n",
      "2. Symbol                                                          NaN  \n",
      "3. Last Refreshed                                                  NaN  \n",
      "4. Interval                                                        NaN  \n",
      "5. Output Size                                                     NaN  \n",
      "...                                                                ...  \n",
      "2025-02-13 04:00:00  {'1. open': '255.8100', '2. high': '255.8100',...  \n",
      "2025-02-12 19:00:00  {'1. open': '255.8100', '2. high': '256.0900',...  \n",
      "2025-02-12 18:00:00  {'1. open': '255.8300', '2. high': '256.1500',...  \n",
      "2025-02-12 17:00:00  {'1. open': '255.6000', '2. high': '256.7900',...  \n",
      "2025-02-12 16:00:00  {'1. open': '255.8500', '2. high': '256.0000',...  \n",
      "\n",
      "[106 rows x 2 columns]\n"
     ]
    },
    {
     "data": {
      "text/html": [
       "<div>\n",
       "<style scoped>\n",
       "    .dataframe tbody tr th:only-of-type {\n",
       "        vertical-align: middle;\n",
       "    }\n",
       "\n",
       "    .dataframe tbody tr th {\n",
       "        vertical-align: top;\n",
       "    }\n",
       "\n",
       "    .dataframe thead th {\n",
       "        text-align: right;\n",
       "    }\n",
       "</style>\n",
       "<table border=\"1\" class=\"dataframe\">\n",
       "  <thead>\n",
       "    <tr style=\"text-align: right;\">\n",
       "      <th></th>\n",
       "      <th>col_name</th>\n",
       "      <th>num_of_nulls</th>\n",
       "      <th>num_of_non_nulls</th>\n",
       "    </tr>\n",
       "  </thead>\n",
       "  <tbody>\n",
       "    <tr>\n",
       "      <th>0</th>\n",
       "      <td>Meta Data</td>\n",
       "      <td>100</td>\n",
       "      <td>6</td>\n",
       "    </tr>\n",
       "    <tr>\n",
       "      <th>1</th>\n",
       "      <td>Time Series (60min)</td>\n",
       "      <td>6</td>\n",
       "      <td>100</td>\n",
       "    </tr>\n",
       "  </tbody>\n",
       "</table>\n",
       "</div>"
      ],
      "text/plain": [
       "              col_name  num_of_nulls  num_of_non_nulls\n",
       "0            Meta Data           100                 6\n",
       "1  Time Series (60min)             6               100"
      ]
     },
     "metadata": {},
     "output_type": "display_data"
    },
    {
     "name": "stdout",
     "output_type": "stream",
     "text": [
      "Empty DataFrame\n",
      "Columns: []\n",
      "Index: []\n"
     ]
    }
   ],
   "source": [
    "if __name__ == \"__main__\":\n",
    "    main()"
   ]
  },
  {
   "cell_type": "code",
   "execution_count": null,
   "id": "7fdc5594-0e22-4ea3-afb5-1460738b0664",
   "metadata": {},
   "outputs": [],
   "source": []
  }
 ],
 "metadata": {
  "kernelspec": {
   "display_name": "Python 3 (ipykernel)",
   "language": "python",
   "name": "python3"
  },
  "language_info": {
   "codemirror_mode": {
    "name": "ipython",
    "version": 3
   },
   "file_extension": ".py",
   "mimetype": "text/x-python",
   "name": "python",
   "nbconvert_exporter": "python",
   "pygments_lexer": "ipython3",
   "version": "3.11.7"
  }
 },
 "nbformat": 4,
 "nbformat_minor": 5
}
